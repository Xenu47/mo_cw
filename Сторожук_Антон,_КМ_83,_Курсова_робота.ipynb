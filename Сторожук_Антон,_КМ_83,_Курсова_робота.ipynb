{
  "nbformat": 4,
  "nbformat_minor": 0,
  "metadata": {
    "colab": {
      "name": "Сторожук Антон, КМ-83, Курсова робота.ipynb",
      "provenance": [],
      "collapsed_sections": [],
      "toc_visible": true,
      "authorship_tag": "ABX9TyNhsttOM4Oa3Of2+HWyMELE",
      "include_colab_link": true
    },
    "kernelspec": {
      "name": "python3",
      "display_name": "Python 3"
    },
    "language_info": {
      "name": "python"
    }
  },
  "cells": [
    {
      "cell_type": "markdown",
      "metadata": {
        "id": "view-in-github",
        "colab_type": "text"
      },
      "source": [
        "<a href=\"https://colab.research.google.com/github/Xenu47/mo_cw/blob/main/%D0%A1%D1%82%D0%BE%D1%80%D0%BE%D0%B6%D1%83%D0%BA_%D0%90%D0%BD%D1%82%D0%BE%D0%BD%2C_%D0%9A%D0%9C_83%2C_%D0%9A%D1%83%D1%80%D1%81%D0%BE%D0%B2%D0%B0_%D1%80%D0%BE%D0%B1%D0%BE%D1%82%D0%B0.ipynb\" target=\"_parent\"><img src=\"https://colab.research.google.com/assets/colab-badge.svg\" alt=\"Open In Colab\"/></a>"
      ]
    },
    {
      "cell_type": "markdown",
      "metadata": {
        "id": "vdaqf6vgTTg4"
      },
      "source": [
        "<left>\n",
        "    <img src=\"https://kpi.ua/files/images/kpi.png\" width=\"300\" alt=\"kpi logo\"  />\n",
        "</left>"
      ]
    },
    {
      "cell_type": "markdown",
      "metadata": {
        "id": "y2VgPk2mTThF"
      },
      "source": [
        "# **Сторожук Антон, КМ-83. Дослідження збіжності метода Хука-Дживса**"
      ]
    },
    {
      "cell_type": "markdown",
      "metadata": {
        "id": "CHwOXFUpTThK"
      },
      "source": [
        "## Зміст"
      ]
    },
    {
      "cell_type": "markdown",
      "metadata": {
        "id": "bHSc4iksTThP"
      },
      "source": [
        "* Зміст\n",
        "* Постановка задачі\n",
        "* Теоретичні відомості \n",
        "* Вирішення задачі\n",
        "  * Імпорт бібліотек\n",
        "  * Створення функцій\n",
        "  * Задання констант\n",
        "  * Виконання розрахунків\n",
        "* Виведення результатів\n",
        "* Висновки\n",
        "* Корисні посилання \n",
        "\n"
      ]
    },
    {
      "cell_type": "markdown",
      "metadata": {
        "id": "rqA6c-eg3df4"
      },
      "source": [
        "## Постановка задачі"
      ]
    },
    {
      "cell_type": "markdown",
      "metadata": {
        "id": "jkRBtAnQTThK"
      },
      "source": [
        "Дослідити збіжність метода Хука-Дживса при мінімізації функції Розенброка в залежності від:\n",
        "1. Значення початкового кроку $\\|\\Delta x\\|$.\n",
        "2. Параметрів методу.\n",
        "3. Вигляду критерію закінчення (\n",
        "$\\begin{cases}\n",
        "\\frac{\\|x^{k+1}-x^k\\|}{\\|x^k\\|} &\\leq \\epsilon \\\\\n",
        "|f(x^{k+1}) - f(x^k)| &\\leq \\epsilon \\\\ \n",
        "\\end{cases}$\n",
        "або $\\|\\Delta x\\| \\leq \\epsilon$).\n",
        "4. Модифікацій методу."
      ]
    },
    {
      "cell_type": "markdown",
      "metadata": {
        "id": "D_YPbUsW4AxB"
      },
      "source": [
        "## Теоретичні відомості"
      ]
    },
    {
      "cell_type": "markdown",
      "metadata": {
        "id": "wCAFlZio4AxX"
      },
      "source": [
        "### Функція Розенброка\n",
        "\n",
        "Функція Розенброка, є класичною тестовою функцією в теорії оптимізації. Іноді її називають функцією банана Розенброка через форму її контурних ліній. Глобальний мінімум знаходиться в точці (1,1), яка лежить у довгій вузькій долині.\n",
        "\n",
        "Тестова функція Розенброка, яка використовується при дослідженні методів для\n",
        "вирішення задач безумовної оптимізації:\n",
        "\n",
        "$f(x_1, x_2) = 100(x_2-x_1^2)^2 + (1-x_2)^2; x^{(0)}=(-1,2;0,0)$"
      ]
    },
    {
      "cell_type": "markdown",
      "metadata": {
        "id": "TUUi4CWu5rit"
      },
      "source": [
        "### Метод Хука–Дживса\n",
        "\n",
        "Метод Хука–Дживса (англ. Hooke — Jeeves) або пошук за зразком (англ. Pattern search) так само, як і метод Нелдера–Міда, призначений для пошуку безумовного локального екстремуму функції і відноситься до прямих методів, тобто спирається безпосередньо на значення функції.\n",
        "\n",
        "Переваги алгоритму:\n",
        "* властивість «прискорюватися», що сприяє підвищенню його загальної ефективності\n",
        "* можливість отримання за його допомогою наближеного рішення, якість якого безупинно підвищується на всіх стадіях чисельного рішення\n",
        "* проста стратегія пошуку і невеликий обсяг необхідної пам'яті\n",
        "\n",
        "Недоліки алгоритму:\n",
        "* алгоритм заснований на циклічному русі по координатам, що може привести до виродження алгоритму в нескінченну послідовність пошуків через дослідження без пошуку за зразком\n",
        "* іноді розв'язком може стати локальний мінімум, а не глобальний, якщо на досліджуваній області присутні кілька мінімумів\n",
        "\n",
        "Алгоритм складається з двох фаз:\n",
        "* Досліджуючий пошук - орієнтований на виявлення характеру локальної поведінки цільової функції та визначення нарямку уздовж «ярів».\n",
        "* Пошук по зразку - використовує інформацію, одержану після проведення досліджуючого пошуку для руху по «ярам».\n",
        "\n",
        "![xp.png](https://drive.google.com/uc?id=1_Tb_FxUptKw5tej2O3T3MezJnDpXifaH)\n",
        "\n",
        "Якщо значення функції в новій точці менше за значення функції в минулій точці, знайденій по зразку то застосовується зменшення значень вектора приросуту:\n",
        "\n",
        "![delta.png](https://drive.google.com/uc?id=1JVSr8LU0vyB-BUxjGKbNVSfJY08O9kU9)\n",
        "\n",
        "Графіки:\n",
        "\n",
        "![graph.png](https://drive.google.com/uc?id=1Uj9hVDb0M-HLKMQpqsE7t7FG9CWuHDbF)\n",
        "\n"
      ]
    },
    {
      "cell_type": "markdown",
      "metadata": {
        "id": "UAv9cVto_b-u"
      },
      "source": [
        "## Вирішення задачі"
      ]
    },
    {
      "cell_type": "markdown",
      "metadata": {
        "id": "IsUEMkwk_XsV"
      },
      "source": [
        "### Імпорт бібліотек"
      ]
    },
    {
      "cell_type": "code",
      "metadata": {
        "id": "8J79Dtw1Dt6w"
      },
      "source": [
        "from sympy import symbols, Eq, N\n",
        "from sympy.solvers import solve\n",
        "import numpy as np\n",
        "import math\n",
        "from IPython.display import Markdown\n",
        "from mpl_toolkits import mplot3d\n",
        "import matplotlib.pyplot as plt"
      ],
      "execution_count": null,
      "outputs": []
    },
    {
      "cell_type": "markdown",
      "metadata": {
        "id": "RMFQKlk4V5kp"
      },
      "source": [
        "### Створення функцій"
      ]
    },
    {
      "cell_type": "code",
      "metadata": {
        "id": "fMpn_UIp39M4"
      },
      "source": [
        "#@title Значення функції в точці\n",
        "def f(x):\n",
        "    result = function.subs([(x1, x[0]), (x2, x[1])])\n",
        "    return N(result, 3)"
      ],
      "execution_count": null,
      "outputs": []
    },
    {
      "cell_type": "code",
      "metadata": {
        "id": "gB4-f4XGlCMB"
      },
      "source": [
        "#@title Досліджуючий пошук\n",
        "def exploratory_search(x, delta_x, list_of_x, silent=False):\n",
        "    sign = '+'\n",
        "    f_x = f(x)\n",
        "    xi, di, ki = symbols('xi di ki')\n",
        "    eq = xi + di*(ki)\n",
        "    new_x = x.copy()\n",
        "    new_f_x = list()\n",
        "    index = len(list_of_x)\n",
        "    for i in range(2):\n",
        "        for j in range(2):\n",
        "            plus_minus = ((-1)**(2*i+j))\n",
        "            eq_result = eq.subs(xi, x[i]).subs(di, delta_x[i]).subs(ki, plus_minus) # x[i] +- delta[i]\n",
        "            res = N( eq_result, 3)\n",
        "            new_x[i] = res\n",
        "            func = f(new_x)\n",
        "            new_f_x.append(func)\n",
        "            if not silent:\n",
        "                display(Markdown(rf'$ x_{i+1}^{index} = {x[i]} {\"+\" if plus_minus>0 else \"-\"} {delta_x[i]} = {N(res, 3)}; f({new_x}) = {func} {\"<\" if func<f_x else \">\"} {f_x}$'))\n",
        "        if new_f_x[2*i] < f_x:\n",
        "            new_x[i] = N(new_x[i] + 2*delta_x[i], 3)\n",
        "    list_of_x.append(new_x)\n",
        "    return new_x"
      ],
      "execution_count": null,
      "outputs": []
    },
    {
      "cell_type": "code",
      "metadata": {
        "id": "5Ili2rXt4NSt"
      },
      "source": [
        "#@title Пошук по зразку\n",
        "def get_xp(list_of_x):\n",
        "    x_current = list_of_x[-1]\n",
        "    x_last = list_of_x[-2]\n",
        "    xp = [2*x_current[i] - x_last[i] for i in range(2)]\n",
        "    return [N(q, 3) for q in xp]"
      ],
      "execution_count": null,
      "outputs": []
    },
    {
      "cell_type": "code",
      "metadata": {
        "id": "e4c_h-h6bR93"
      },
      "source": [
        "#@title Метод Хука-Дживса з покроковим текстовим виводом\n",
        "def solve_hooke_jeeves(function, x_0, base_delta_x, epsilon, cond):\n",
        "    list_of_x = [x_0]\n",
        "    list_of_x_back = list()\n",
        "    delta_x = base_delta_x.copy()\n",
        "    bonus=0\n",
        "\n",
        "    display(Markdown(rf'Мінімізувати функцію: ${str(function).replace(\"**\", \"^\").replace(\"x\", \"x_\")}$'))\n",
        "    display(Markdown(rf'Початкова точка: $x^0 = {x_0}$'))\n",
        "    display(Markdown(rf'Значення приросту: $\\Delta x = {base_delta_x}$'))\n",
        "    display(Markdown(rf'Значення функції: $f(x^0) = {f(x_0)}$'))\n",
        "    print()\n",
        "\n",
        "\n",
        "    display(Markdown(rf'Ітерація 1:'))\n",
        "    display(Markdown(r'Проводиться досліджуючий пошук навколо першої базисної точки $x^0$'))\n",
        "    x_1 = exploratory_search(x_0, delta_x, list_of_x)\n",
        "    xp = get_xp(list_of_x)\n",
        "\n",
        "    display(Markdown(rf'Отримана точка $x^1 = {x_1}$'))\n",
        "    display(Markdown(rf'$x_0 = {list_of_x[-2]}$ - базисна'))\n",
        "    display(Markdown(rf'$x_1 = {x_1}$ - поточна базисна'))\n",
        "    display(Markdown(rf'$x_p^1 = 2x^1 - x^0 = {xp}$'))\n",
        "    display(Markdown(rf'$f(x_p^1) = {f(xp)}$'))\n",
        "    print('\\n')\n",
        "\n",
        "    i = 0\n",
        "    exit_cond_1 = np.linalg.norm(delta_x) <= epsilon\n",
        "    first_cond = np.linalg.norm(np.array(np.subtract(list_of_x[-1],list_of_x[-2]), dtype=np.float64))/np.linalg.norm(np.array(list_of_x[-2], dtype=np.float64)) <= epsilon\n",
        "    second_cond = np.absolute(f(list_of_x[-1]) - f(list_of_x[-2])) <= epsilon\n",
        "    exit_cond_2 = first_cond and second_cond\n",
        "    exit_cond = exit_cond_1 if cond == 1 else exit_cond_2\n",
        "    while not exit_cond:\n",
        "        i+=1\n",
        "        \n",
        "        xn = exploratory_search(xp, delta_x, list_of_x)\n",
        "        display(Markdown(rf'Ітерація {i+1+bonus}:'))\n",
        "        display(Markdown(rf'Проводиться досліджуючий пошук навколо точки $x_p^{i}$'))\n",
        "        display(Markdown(rf'Отримана точка $x^{i+1} = {xn}$'))\n",
        "\n",
        "        exit_cond_1 = np.linalg.norm(delta_x) <= epsilon\n",
        "        first_cond = np.linalg.norm(np.array(np.subtract(list_of_x[-1],list_of_x[-2]), dtype=np.float64))/np.linalg.norm(np.array(list_of_x[-2], dtype=np.float64)) <= epsilon\n",
        "        second_cond = np.absolute(f(list_of_x[-1]) - f(list_of_x[-2])) <= epsilon\n",
        "        exit_cond_2 = first_cond and second_cond\n",
        "        exit_cond = exit_cond_1 if cond == 1 else exit_cond_2\n",
        "\n",
        "\n",
        "        if f(list_of_x[-1]) < f(list_of_x[-2]):\n",
        "            xp = get_xp(list_of_x)\n",
        "\n",
        "            display(Markdown(rf'Оскільки $f({list_of_x[-1]}) = {f(list_of_x[-1])} < f({list_of_x[-2]}) = {f(list_of_x[-2])}$ $\\Rightarrow$'))\n",
        "            display(Markdown(rf'$x_{i} = {list_of_x[-2]}$ - базисна'))\n",
        "            display(Markdown(rf'$x_{i+1} = {xn}$ - поточна базисна'))\n",
        "            if exit_cond:\n",
        "                break\n",
        "            display(Markdown(rf'З поточної базисної точки $x^{i+1}$ проводиться пошук за зразком:'))\n",
        "            display(Markdown(rf'$x_p^{i+1} = 2x^{i+1} - x^{i} = {xp}$'))\n",
        "            display(Markdown(rf'$f(x_p^{i+1}) = {f(xp)}$'))\n",
        "        \n",
        "        else:\n",
        "            delta_x = [x/2 for x in delta_x]\n",
        "            \n",
        "            display(Markdown(rf'**Оскільки** $f({list_of_x[-1]}) = {f(list_of_x[-1])} > f({list_of_x[-2]}) = {f(list_of_x[-2])}$ $\\Rightarrow$'))\n",
        "            display(Markdown(rf'Пошук не є успішним, необхідно зменшити значення приросту:'))\n",
        "            display(Markdown(r'$\\Delta x_{new} = \\frac{\\Delta x_{last}}{2} =$'+rf'{delta_x}'))\n",
        "            display(Markdown(rf'І провести досліджуючий пошук навколо останньої базисної точки $x^{i-1} = {list_of_x[-3]}$'))\n",
        "            print('\\n')\n",
        "            \n",
        "            list_of_x_back = list_of_x.copy()\n",
        "            list_of_x = list_of_x[:-2]\n",
        "            i = i-2\n",
        "            bonus = 2\n",
        "            xp = list_of_x[-1]\n",
        "            continue\n",
        "        \n",
        "        print('\\n')\n",
        "    return list_of_x[-1]"
      ],
      "execution_count": null,
      "outputs": []
    },
    {
      "cell_type": "code",
      "metadata": {
        "id": "YbkCoKH7d2Ln",
        "cellView": "form"
      },
      "source": [
        "#@title Метод Хука-Дживса без покрокового текстового виводу\n",
        "#@markdown Ідентичній попередньому, але без тексту\n",
        "def solve_hooke_jeeves_silent(function, x_0, base_delta_x, epsilon, cond):\n",
        "    list_of_x = [x_0]\n",
        "    list_of_x_back = list()\n",
        "    delta_x = base_delta_x.copy()\n",
        "    bonus=0\n",
        "\n",
        "    x_1 = exploratory_search(x_0, delta_x, list_of_x, True)\n",
        "    xp = get_xp(list_of_x)\n",
        "\n",
        "    i = 0\n",
        "    exit_cond_1 = np.linalg.norm(delta_x) <= epsilon\n",
        "    first_cond = np.linalg.norm(np.array(np.subtract(list_of_x[-1],list_of_x[-2]), dtype=np.float64))/np.linalg.norm(np.array(list_of_x[-2], dtype=np.float64)) <= epsilon\n",
        "    second_cond = np.absolute(f(list_of_x[-1]) - f(list_of_x[-2])) <= epsilon\n",
        "    exit_cond_2 = first_cond and second_cond\n",
        "    exit_cond = exit_cond_1 if cond == 1 else exit_cond_2\n",
        "    while not exit_cond:\n",
        "        i+=1\n",
        "        \n",
        "        xn = exploratory_search(xp, delta_x, list_of_x, True)\n",
        "\n",
        "        exit_cond_1 = np.linalg.norm(delta_x) <= epsilon\n",
        "        first_cond = np.linalg.norm(np.array(np.subtract(list_of_x[-1],list_of_x[-2]), dtype=np.float64))/np.linalg.norm(np.array(list_of_x[-2], dtype=np.float64)) <= epsilon\n",
        "        second_cond = np.absolute(f(list_of_x[-1]) - f(list_of_x[-2])) <= epsilon\n",
        "        exit_cond_2 = first_cond and second_cond\n",
        "        exit_cond = exit_cond_1 if cond == 1 else exit_cond_2\n",
        "        \n",
        "        if f(list_of_x[-1]) < f(list_of_x[-2]):\n",
        "            xp = get_xp(list_of_x)\n",
        "            if exit_cond:\n",
        "                break\n",
        "        else:\n",
        "            delta_x = [x/2 for x in delta_x]\n",
        "            list_of_x_back = list_of_x.copy()\n",
        "            list_of_x = list_of_x[:-2]\n",
        "            i = i-2\n",
        "            bonus = 2\n",
        "            xp = list_of_x[-1]\n",
        "            continue\n",
        "    return list_of_x[-1]"
      ],
      "execution_count": null,
      "outputs": []
    },
    {
      "cell_type": "code",
      "metadata": {
        "id": "ldK2tkJFApIC"
      },
      "source": [
        "#@title Задання констант\n",
        "x1, x2 = symbols('x1 x2')\n",
        "function = (x1-2)**2 + x2**2\n",
        "x_0 = [4,6]\n",
        "base_delta_x = [0.6,0.8]\n",
        "epsilon = 0.5\n",
        "exit_condition = 1 # 1 == ||delta x|| <= epsilon"
      ],
      "execution_count": null,
      "outputs": []
    },
    {
      "cell_type": "code",
      "metadata": {
        "colab": {
          "base_uri": "https://localhost:8080/",
          "height": 2266
        },
        "id": "ApjW4uH3oLWw",
        "outputId": "36a9b672-6327-4c14-c7e0-7a201d157db1"
      },
      "source": [
        "#@title Виконання розрахунків + виведення результатів\n",
        "from IPython.display import Javascript\n",
        "display(Javascript('''google.colab.output.setIframeHeight(0, true, {maxHeight: 5000})'''))\n",
        "\n",
        "solve_hooke_jeeves(function, x_0, base_delta_x, epsilon, exit_condition)"
      ],
      "execution_count": null,
      "outputs": [
        {
          "output_type": "display_data",
          "data": {
            "application/javascript": [
              "google.colab.output.setIframeHeight(0, true, {maxHeight: 5000})"
            ],
            "text/plain": [
              "<IPython.core.display.Javascript object>"
            ]
          },
          "metadata": {
            "tags": []
          }
        },
        {
          "output_type": "display_data",
          "data": {
            "text/markdown": "Мінімізувати функцію: $x_2^2 + (x_1 - 2)^2$",
            "text/plain": [
              "<IPython.core.display.Markdown object>"
            ]
          },
          "metadata": {
            "tags": []
          }
        },
        {
          "output_type": "display_data",
          "data": {
            "text/markdown": "Початкова точка: $x^0 = [4, 6]$",
            "text/plain": [
              "<IPython.core.display.Markdown object>"
            ]
          },
          "metadata": {
            "tags": []
          }
        },
        {
          "output_type": "display_data",
          "data": {
            "text/markdown": "Значення приросту: $\\Delta x = [0.6, 0.8]$",
            "text/plain": [
              "<IPython.core.display.Markdown object>"
            ]
          },
          "metadata": {
            "tags": []
          }
        },
        {
          "output_type": "display_data",
          "data": {
            "text/markdown": "Значення функції: $f(x^0) = 40.0$",
            "text/plain": [
              "<IPython.core.display.Markdown object>"
            ]
          },
          "metadata": {
            "tags": []
          }
        },
        {
          "output_type": "stream",
          "text": [
            "\n"
          ],
          "name": "stdout"
        },
        {
          "output_type": "display_data",
          "data": {
            "text/markdown": "Ітерація 1:",
            "text/plain": [
              "<IPython.core.display.Markdown object>"
            ]
          },
          "metadata": {
            "tags": []
          }
        },
        {
          "output_type": "display_data",
          "data": {
            "text/markdown": "Проводиться досліджуючий пошук навколо першої базисної точки $x^0$",
            "text/plain": [
              "<IPython.core.display.Markdown object>"
            ]
          },
          "metadata": {
            "tags": []
          }
        },
        {
          "output_type": "display_data",
          "data": {
            "text/markdown": "$ x_1^1 = 4 + 0.6 = 4.60; f([4.60, 6]) = 42.8 > 40.0$",
            "text/plain": [
              "<IPython.core.display.Markdown object>"
            ]
          },
          "metadata": {
            "tags": []
          }
        },
        {
          "output_type": "display_data",
          "data": {
            "text/markdown": "$ x_1^1 = 4 - 0.6 = 3.40; f([3.40, 6]) = 38.0 < 40.0$",
            "text/plain": [
              "<IPython.core.display.Markdown object>"
            ]
          },
          "metadata": {
            "tags": []
          }
        },
        {
          "output_type": "display_data",
          "data": {
            "text/markdown": "$ x_2^1 = 6 + 0.8 = 6.80; f([3.40, 6.80]) = 48.2 > 40.0$",
            "text/plain": [
              "<IPython.core.display.Markdown object>"
            ]
          },
          "metadata": {
            "tags": []
          }
        },
        {
          "output_type": "display_data",
          "data": {
            "text/markdown": "$ x_2^1 = 6 - 0.8 = 5.20; f([3.40, 5.20]) = 29.0 < 40.0$",
            "text/plain": [
              "<IPython.core.display.Markdown object>"
            ]
          },
          "metadata": {
            "tags": []
          }
        },
        {
          "output_type": "display_data",
          "data": {
            "text/markdown": "Отримана точка $x^1 = [3.40, 5.20]$",
            "text/plain": [
              "<IPython.core.display.Markdown object>"
            ]
          },
          "metadata": {
            "tags": []
          }
        },
        {
          "output_type": "display_data",
          "data": {
            "text/markdown": "$x_0 = [4, 6]$ - базисна",
            "text/plain": [
              "<IPython.core.display.Markdown object>"
            ]
          },
          "metadata": {
            "tags": []
          }
        },
        {
          "output_type": "display_data",
          "data": {
            "text/markdown": "$x_1 = [3.40, 5.20]$ - поточна базисна",
            "text/plain": [
              "<IPython.core.display.Markdown object>"
            ]
          },
          "metadata": {
            "tags": []
          }
        },
        {
          "output_type": "display_data",
          "data": {
            "text/markdown": "$x_p^1 = 2x^1 - x^0 = [2.80, 4.40]$",
            "text/plain": [
              "<IPython.core.display.Markdown object>"
            ]
          },
          "metadata": {
            "tags": []
          }
        },
        {
          "output_type": "display_data",
          "data": {
            "text/markdown": "$f(x_p^1) = 20.0$",
            "text/plain": [
              "<IPython.core.display.Markdown object>"
            ]
          },
          "metadata": {
            "tags": []
          }
        },
        {
          "output_type": "stream",
          "text": [
            "\n",
            "\n"
          ],
          "name": "stdout"
        },
        {
          "output_type": "display_data",
          "data": {
            "text/markdown": "$ x_1^2 = 2.80 + 0.6 = 3.40; f([3.40, 4.40]) = 21.3 > 20.0$",
            "text/plain": [
              "<IPython.core.display.Markdown object>"
            ]
          },
          "metadata": {
            "tags": []
          }
        },
        {
          "output_type": "display_data",
          "data": {
            "text/markdown": "$ x_1^2 = 2.80 - 0.6 = 2.20; f([2.20, 4.40]) = 19.4 < 20.0$",
            "text/plain": [
              "<IPython.core.display.Markdown object>"
            ]
          },
          "metadata": {
            "tags": []
          }
        },
        {
          "output_type": "display_data",
          "data": {
            "text/markdown": "$ x_2^2 = 4.40 + 0.8 = 5.20; f([2.20, 5.20]) = 27.1 > 20.0$",
            "text/plain": [
              "<IPython.core.display.Markdown object>"
            ]
          },
          "metadata": {
            "tags": []
          }
        },
        {
          "output_type": "display_data",
          "data": {
            "text/markdown": "$ x_2^2 = 4.40 - 0.8 = 3.60; f([2.20, 3.60]) = 13.0 < 20.0$",
            "text/plain": [
              "<IPython.core.display.Markdown object>"
            ]
          },
          "metadata": {
            "tags": []
          }
        },
        {
          "output_type": "display_data",
          "data": {
            "text/markdown": "Ітерація 2:",
            "text/plain": [
              "<IPython.core.display.Markdown object>"
            ]
          },
          "metadata": {
            "tags": []
          }
        },
        {
          "output_type": "display_data",
          "data": {
            "text/markdown": "Проводиться досліджуючий пошук навколо точки $x_p^1$",
            "text/plain": [
              "<IPython.core.display.Markdown object>"
            ]
          },
          "metadata": {
            "tags": []
          }
        },
        {
          "output_type": "display_data",
          "data": {
            "text/markdown": "Отримана точка $x^2 = [2.20, 3.60]$",
            "text/plain": [
              "<IPython.core.display.Markdown object>"
            ]
          },
          "metadata": {
            "tags": []
          }
        },
        {
          "output_type": "display_data",
          "data": {
            "text/markdown": "Оскільки $f([2.20, 3.60]) = 13.0 < f([3.40, 5.20]) = 29.0$ $\\Rightarrow$",
            "text/plain": [
              "<IPython.core.display.Markdown object>"
            ]
          },
          "metadata": {
            "tags": []
          }
        },
        {
          "output_type": "display_data",
          "data": {
            "text/markdown": "$x_1 = [3.40, 5.20]$ - базисна",
            "text/plain": [
              "<IPython.core.display.Markdown object>"
            ]
          },
          "metadata": {
            "tags": []
          }
        },
        {
          "output_type": "display_data",
          "data": {
            "text/markdown": "$x_2 = [2.20, 3.60]$ - поточна базисна",
            "text/plain": [
              "<IPython.core.display.Markdown object>"
            ]
          },
          "metadata": {
            "tags": []
          }
        },
        {
          "output_type": "display_data",
          "data": {
            "text/markdown": "З поточної базисної точки $x^2$ проводиться пошук за зразком:",
            "text/plain": [
              "<IPython.core.display.Markdown object>"
            ]
          },
          "metadata": {
            "tags": []
          }
        },
        {
          "output_type": "display_data",
          "data": {
            "text/markdown": "$x_p^2 = 2x^2 - x^1 = [1.00, 2.00]$",
            "text/plain": [
              "<IPython.core.display.Markdown object>"
            ]
          },
          "metadata": {
            "tags": []
          }
        },
        {
          "output_type": "display_data",
          "data": {
            "text/markdown": "$f(x_p^2) = 5.00$",
            "text/plain": [
              "<IPython.core.display.Markdown object>"
            ]
          },
          "metadata": {
            "tags": []
          }
        },
        {
          "output_type": "stream",
          "text": [
            "\n",
            "\n"
          ],
          "name": "stdout"
        },
        {
          "output_type": "display_data",
          "data": {
            "text/markdown": "$ x_1^3 = 1.00 + 0.6 = 1.60; f([1.60, 2.00]) = 4.16 < 5.00$",
            "text/plain": [
              "<IPython.core.display.Markdown object>"
            ]
          },
          "metadata": {
            "tags": []
          }
        },
        {
          "output_type": "display_data",
          "data": {
            "text/markdown": "$ x_1^3 = 1.00 - 0.6 = 0.400; f([0.400, 2.00]) = 6.57 > 5.00$",
            "text/plain": [
              "<IPython.core.display.Markdown object>"
            ]
          },
          "metadata": {
            "tags": []
          }
        },
        {
          "output_type": "display_data",
          "data": {
            "text/markdown": "$ x_2^3 = 2.00 + 0.8 = 2.80; f([1.60, 2.80]) = 8.01 > 5.00$",
            "text/plain": [
              "<IPython.core.display.Markdown object>"
            ]
          },
          "metadata": {
            "tags": []
          }
        },
        {
          "output_type": "display_data",
          "data": {
            "text/markdown": "$ x_2^3 = 2.00 - 0.8 = 1.20; f([1.60, 1.20]) = 1.60 < 5.00$",
            "text/plain": [
              "<IPython.core.display.Markdown object>"
            ]
          },
          "metadata": {
            "tags": []
          }
        },
        {
          "output_type": "display_data",
          "data": {
            "text/markdown": "Ітерація 3:",
            "text/plain": [
              "<IPython.core.display.Markdown object>"
            ]
          },
          "metadata": {
            "tags": []
          }
        },
        {
          "output_type": "display_data",
          "data": {
            "text/markdown": "Проводиться досліджуючий пошук навколо точки $x_p^2$",
            "text/plain": [
              "<IPython.core.display.Markdown object>"
            ]
          },
          "metadata": {
            "tags": []
          }
        },
        {
          "output_type": "display_data",
          "data": {
            "text/markdown": "Отримана точка $x^3 = [1.60, 1.20]$",
            "text/plain": [
              "<IPython.core.display.Markdown object>"
            ]
          },
          "metadata": {
            "tags": []
          }
        },
        {
          "output_type": "display_data",
          "data": {
            "text/markdown": "Оскільки $f([1.60, 1.20]) = 1.60 < f([2.20, 3.60]) = 13.0$ $\\Rightarrow$",
            "text/plain": [
              "<IPython.core.display.Markdown object>"
            ]
          },
          "metadata": {
            "tags": []
          }
        },
        {
          "output_type": "display_data",
          "data": {
            "text/markdown": "$x_2 = [2.20, 3.60]$ - базисна",
            "text/plain": [
              "<IPython.core.display.Markdown object>"
            ]
          },
          "metadata": {
            "tags": []
          }
        },
        {
          "output_type": "display_data",
          "data": {
            "text/markdown": "$x_3 = [1.60, 1.20]$ - поточна базисна",
            "text/plain": [
              "<IPython.core.display.Markdown object>"
            ]
          },
          "metadata": {
            "tags": []
          }
        },
        {
          "output_type": "display_data",
          "data": {
            "text/markdown": "З поточної базисної точки $x^3$ проводиться пошук за зразком:",
            "text/plain": [
              "<IPython.core.display.Markdown object>"
            ]
          },
          "metadata": {
            "tags": []
          }
        },
        {
          "output_type": "display_data",
          "data": {
            "text/markdown": "$x_p^3 = 2x^3 - x^2 = [1.00, -1.20]$",
            "text/plain": [
              "<IPython.core.display.Markdown object>"
            ]
          },
          "metadata": {
            "tags": []
          }
        },
        {
          "output_type": "display_data",
          "data": {
            "text/markdown": "$f(x_p^3) = 2.44$",
            "text/plain": [
              "<IPython.core.display.Markdown object>"
            ]
          },
          "metadata": {
            "tags": []
          }
        },
        {
          "output_type": "stream",
          "text": [
            "\n",
            "\n"
          ],
          "name": "stdout"
        },
        {
          "output_type": "display_data",
          "data": {
            "text/markdown": "$ x_1^4 = 1.00 + 0.6 = 1.60; f([1.60, -1.20]) = 1.60 < 2.44$",
            "text/plain": [
              "<IPython.core.display.Markdown object>"
            ]
          },
          "metadata": {
            "tags": []
          }
        },
        {
          "output_type": "display_data",
          "data": {
            "text/markdown": "$ x_1^4 = 1.00 - 0.6 = 0.400; f([0.400, -1.20]) = 4.00 > 2.44$",
            "text/plain": [
              "<IPython.core.display.Markdown object>"
            ]
          },
          "metadata": {
            "tags": []
          }
        },
        {
          "output_type": "display_data",
          "data": {
            "text/markdown": "$ x_2^4 = -1.20 + 0.8 = -0.399; f([1.60, -0.399]) = 0.319 < 2.44$",
            "text/plain": [
              "<IPython.core.display.Markdown object>"
            ]
          },
          "metadata": {
            "tags": []
          }
        },
        {
          "output_type": "display_data",
          "data": {
            "text/markdown": "$ x_2^4 = -1.20 - 0.8 = -2.00; f([1.60, -2.00]) = 4.16 > 2.44$",
            "text/plain": [
              "<IPython.core.display.Markdown object>"
            ]
          },
          "metadata": {
            "tags": []
          }
        },
        {
          "output_type": "display_data",
          "data": {
            "text/markdown": "Ітерація 4:",
            "text/plain": [
              "<IPython.core.display.Markdown object>"
            ]
          },
          "metadata": {
            "tags": []
          }
        },
        {
          "output_type": "display_data",
          "data": {
            "text/markdown": "Проводиться досліджуючий пошук навколо точки $x_p^3$",
            "text/plain": [
              "<IPython.core.display.Markdown object>"
            ]
          },
          "metadata": {
            "tags": []
          }
        },
        {
          "output_type": "display_data",
          "data": {
            "text/markdown": "Отримана точка $x^4 = [1.60, -0.399]$",
            "text/plain": [
              "<IPython.core.display.Markdown object>"
            ]
          },
          "metadata": {
            "tags": []
          }
        },
        {
          "output_type": "display_data",
          "data": {
            "text/markdown": "Оскільки $f([1.60, -0.399]) = 0.319 < f([1.60, 1.20]) = 1.60$ $\\Rightarrow$",
            "text/plain": [
              "<IPython.core.display.Markdown object>"
            ]
          },
          "metadata": {
            "tags": []
          }
        },
        {
          "output_type": "display_data",
          "data": {
            "text/markdown": "$x_3 = [1.60, 1.20]$ - базисна",
            "text/plain": [
              "<IPython.core.display.Markdown object>"
            ]
          },
          "metadata": {
            "tags": []
          }
        },
        {
          "output_type": "display_data",
          "data": {
            "text/markdown": "$x_4 = [1.60, -0.399]$ - поточна базисна",
            "text/plain": [
              "<IPython.core.display.Markdown object>"
            ]
          },
          "metadata": {
            "tags": []
          }
        },
        {
          "output_type": "display_data",
          "data": {
            "text/markdown": "З поточної базисної точки $x^4$ проводиться пошук за зразком:",
            "text/plain": [
              "<IPython.core.display.Markdown object>"
            ]
          },
          "metadata": {
            "tags": []
          }
        },
        {
          "output_type": "display_data",
          "data": {
            "text/markdown": "$x_p^4 = 2x^4 - x^3 = [1.60, -2.00]$",
            "text/plain": [
              "<IPython.core.display.Markdown object>"
            ]
          },
          "metadata": {
            "tags": []
          }
        },
        {
          "output_type": "display_data",
          "data": {
            "text/markdown": "$f(x_p^4) = 4.15$",
            "text/plain": [
              "<IPython.core.display.Markdown object>"
            ]
          },
          "metadata": {
            "tags": []
          }
        },
        {
          "output_type": "stream",
          "text": [
            "\n",
            "\n"
          ],
          "name": "stdout"
        },
        {
          "output_type": "display_data",
          "data": {
            "text/markdown": "$ x_1^5 = 1.60 + 0.6 = 2.20; f([2.20, -2.00]) = 4.03 < 4.15$",
            "text/plain": [
              "<IPython.core.display.Markdown object>"
            ]
          },
          "metadata": {
            "tags": []
          }
        },
        {
          "output_type": "display_data",
          "data": {
            "text/markdown": "$ x_1^5 = 1.60 - 0.6 = 1.00; f([1.00, -2.00]) = 5.00 > 4.15$",
            "text/plain": [
              "<IPython.core.display.Markdown object>"
            ]
          },
          "metadata": {
            "tags": []
          }
        },
        {
          "output_type": "display_data",
          "data": {
            "text/markdown": "$ x_2^5 = -2.00 + 0.8 = -1.20; f([2.20, -1.20]) = 1.48 < 4.15$",
            "text/plain": [
              "<IPython.core.display.Markdown object>"
            ]
          },
          "metadata": {
            "tags": []
          }
        },
        {
          "output_type": "display_data",
          "data": {
            "text/markdown": "$ x_2^5 = -2.00 - 0.8 = -2.80; f([2.20, -2.80]) = 7.87 > 4.15$",
            "text/plain": [
              "<IPython.core.display.Markdown object>"
            ]
          },
          "metadata": {
            "tags": []
          }
        },
        {
          "output_type": "display_data",
          "data": {
            "text/markdown": "Ітерація 5:",
            "text/plain": [
              "<IPython.core.display.Markdown object>"
            ]
          },
          "metadata": {
            "tags": []
          }
        },
        {
          "output_type": "display_data",
          "data": {
            "text/markdown": "Проводиться досліджуючий пошук навколо точки $x_p^4$",
            "text/plain": [
              "<IPython.core.display.Markdown object>"
            ]
          },
          "metadata": {
            "tags": []
          }
        },
        {
          "output_type": "display_data",
          "data": {
            "text/markdown": "Отримана точка $x^5 = [2.20, -1.20]$",
            "text/plain": [
              "<IPython.core.display.Markdown object>"
            ]
          },
          "metadata": {
            "tags": []
          }
        },
        {
          "output_type": "display_data",
          "data": {
            "text/markdown": "**Оскільки** $f([2.20, -1.20]) = 1.48 > f([1.60, -0.399]) = 0.319$ $\\Rightarrow$",
            "text/plain": [
              "<IPython.core.display.Markdown object>"
            ]
          },
          "metadata": {
            "tags": []
          }
        },
        {
          "output_type": "display_data",
          "data": {
            "text/markdown": "Пошук не є успішним, необхідно зменшити значення приросту:",
            "text/plain": [
              "<IPython.core.display.Markdown object>"
            ]
          },
          "metadata": {
            "tags": []
          }
        },
        {
          "output_type": "display_data",
          "data": {
            "text/markdown": "$\\Delta x_{new} = \\frac{\\Delta x_{last}}{2} =$[0.3, 0.4]",
            "text/plain": [
              "<IPython.core.display.Markdown object>"
            ]
          },
          "metadata": {
            "tags": []
          }
        },
        {
          "output_type": "display_data",
          "data": {
            "text/markdown": "І провести досліджуючий пошук навколо останньої базисної точки $x^3 = [1.60, 1.20]$",
            "text/plain": [
              "<IPython.core.display.Markdown object>"
            ]
          },
          "metadata": {
            "tags": []
          }
        },
        {
          "output_type": "stream",
          "text": [
            "\n",
            "\n"
          ],
          "name": "stdout"
        },
        {
          "output_type": "display_data",
          "data": {
            "text/markdown": "$ x_1^4 = 1.60 + 0.3 = 1.90; f([1.90, 1.20]) = 1.45 < 1.60$",
            "text/plain": [
              "<IPython.core.display.Markdown object>"
            ]
          },
          "metadata": {
            "tags": []
          }
        },
        {
          "output_type": "display_data",
          "data": {
            "text/markdown": "$ x_1^4 = 1.60 - 0.3 = 1.30; f([1.30, 1.20]) = 1.93 > 1.60$",
            "text/plain": [
              "<IPython.core.display.Markdown object>"
            ]
          },
          "metadata": {
            "tags": []
          }
        },
        {
          "output_type": "display_data",
          "data": {
            "text/markdown": "$ x_2^4 = 1.20 + 0.4 = 1.60; f([1.90, 1.60]) = 2.57 > 1.60$",
            "text/plain": [
              "<IPython.core.display.Markdown object>"
            ]
          },
          "metadata": {
            "tags": []
          }
        },
        {
          "output_type": "display_data",
          "data": {
            "text/markdown": "$ x_2^4 = 1.20 - 0.4 = 0.801; f([1.90, 0.801]) = 0.651 < 1.60$",
            "text/plain": [
              "<IPython.core.display.Markdown object>"
            ]
          },
          "metadata": {
            "tags": []
          }
        },
        {
          "output_type": "display_data",
          "data": {
            "text/markdown": "Ітерація 6:",
            "text/plain": [
              "<IPython.core.display.Markdown object>"
            ]
          },
          "metadata": {
            "tags": []
          }
        },
        {
          "output_type": "display_data",
          "data": {
            "text/markdown": "Проводиться досліджуючий пошук навколо точки $x_p^3$",
            "text/plain": [
              "<IPython.core.display.Markdown object>"
            ]
          },
          "metadata": {
            "tags": []
          }
        },
        {
          "output_type": "display_data",
          "data": {
            "text/markdown": "Отримана точка $x^4 = [1.90, 0.801]$",
            "text/plain": [
              "<IPython.core.display.Markdown object>"
            ]
          },
          "metadata": {
            "tags": []
          }
        },
        {
          "output_type": "display_data",
          "data": {
            "text/markdown": "Оскільки $f([1.90, 0.801]) = 0.651 < f([1.60, 1.20]) = 1.60$ $\\Rightarrow$",
            "text/plain": [
              "<IPython.core.display.Markdown object>"
            ]
          },
          "metadata": {
            "tags": []
          }
        },
        {
          "output_type": "display_data",
          "data": {
            "text/markdown": "$x_3 = [1.60, 1.20]$ - базисна",
            "text/plain": [
              "<IPython.core.display.Markdown object>"
            ]
          },
          "metadata": {
            "tags": []
          }
        },
        {
          "output_type": "display_data",
          "data": {
            "text/markdown": "$x_4 = [1.90, 0.801]$ - поточна базисна",
            "text/plain": [
              "<IPython.core.display.Markdown object>"
            ]
          },
          "metadata": {
            "tags": []
          }
        },
        {
          "output_type": "execute_result",
          "data": {
            "text/plain": [
              "[1.90, 0.801]"
            ]
          },
          "metadata": {
            "tags": []
          },
          "execution_count": 8
        }
      ]
    },
    {
      "cell_type": "markdown",
      "metadata": {
        "id": "NHx2WP9xqo-P"
      },
      "source": [
        "## Виведення результатів"
      ]
    },
    {
      "cell_type": "code",
      "metadata": {
        "id": "tQkqykmpvBdL",
        "colab": {
          "base_uri": "https://localhost:8080/",
          "height": 509
        },
        "outputId": "c1e56789-e7f3-4dca-fc04-f1b396bf1e20"
      },
      "source": [
        "#@title Графік збіжності метода Хука-Дживса при мінімізації функції Розенброка в залежності від значення почачткого кроку і критерію закінчення\n",
        "display(Markdown(r'Критерій закінчення - $\\begin{cases}\\frac{\\|x^{k+1}-x^k\\|}{\\|x^k\\|} &\\leq \\epsilon \\\\|f(x^{k+1}) - f(x^k)| &\\leq \\epsilon \\\\ \\end{cases}$'))\n",
        "\n",
        "exit_condition = 2\n",
        "values = list()\n",
        "for i in range(11):\n",
        "    for j in range(11):\n",
        "        temp = [i/10,j/10]\n",
        "        func_result = solve_hooke_jeeves_silent(function, x_0, temp, epsilon, exit_condition)\n",
        "        temp.append(func_result)\n",
        "        values.append(temp)\n",
        "\n",
        "x = [x[0] for x in values]\n",
        "y = [x[1] for x in values]\n",
        "z = [x[2] for x in values]\n",
        "\n",
        "fig = plt.figure(figsize=(24, 7))\n",
        "\n",
        "color = [q for q in range(len(z))]\n",
        "color.reverse()\n",
        "\n",
        "plt.subplot(1, 2, 1)\n",
        "plt.scatter(x , y, c = color, cmap ='magma')\n",
        "plt.title('Початковий крок')\n",
        "\n",
        "plt.subplot(1, 2, 2)\n",
        "zx = [q[0] for q in z]\n",
        "zy = [q[1] for q in z]\n",
        "plt.scatter(zx , zy, c = color, cmap ='magma')\n",
        "plt.title('Кінцевий результат')\n",
        "plt.show()"
      ],
      "execution_count": null,
      "outputs": [
        {
          "output_type": "display_data",
          "data": {
            "text/markdown": "Критерій закінчення - $\\begin{cases}\\frac{\\|x^{k+1}-x^k\\|}{\\|x^k\\|} &\\leq \\epsilon \\\\|f(x^{k+1}) - f(x^k)| &\\leq \\epsilon \\\\ \\end{cases}$",
            "text/plain": [
              "<IPython.core.display.Markdown object>"
            ]
          },
          "metadata": {
            "tags": []
          }
        },
        {
          "output_type": "display_data",
          "data": {
            "image/png": "[encoded data removed]",
            "text/plain": [
              "<Figure size 1728x504 with 2 Axes>"
            ]
          },
          "metadata": {
            "tags": [],
            "needs_background": "light"
          }
        }
      ]
    },
    {
      "cell_type": "code",
      "metadata": {
        "colab": {
          "base_uri": "https://localhost:8080/",
          "height": 477
        },
        "id": "k6tMtyWw7M-k",
        "outputId": "77454b75-f0c7-4c9b-801a-f3249c4e33b9"
      },
      "source": [
        "#@title Графік збіжності метода Хука-Дживса при мінімізації функції Розенброка в залежності від значення почачткого кроку і критерію закінчення\n",
        "display(Markdown(r'Критерій закінчення - $\\|\\Delta x\\| \\leq \\epsilon$'))\n",
        "\n",
        "exit_condition = 1\n",
        "values = list()\n",
        "for i in range(11):\n",
        "    for j in range(11):\n",
        "        temp = [i/10,j/10]\n",
        "        func_result = solve_hooke_jeeves_silent(function, x_0, temp, epsilon, exit_condition)\n",
        "        temp.append(func_result)\n",
        "        values.append(temp)\n",
        "\n",
        "x = [x[0] for x in values]\n",
        "y = [x[1] for x in values]\n",
        "z = [x[2] for x in values]\n",
        "\n",
        "fig = plt.figure(figsize=(24, 7))\n",
        "\n",
        "color = [q for q in range(len(z))]\n",
        "color.reverse()\n",
        "\n",
        "plt.subplot(1, 2, 1)\n",
        "plt.scatter(x , y, c = color, cmap ='magma')\n",
        "plt.title('Початковий крок')\n",
        "\n",
        "plt.subplot(1, 2, 2)\n",
        "zx = [q[0] for q in z]\n",
        "zy = [q[1] for q in z]\n",
        "plt.scatter(zx , zy, c = color, cmap ='magma')\n",
        "plt.title('Кінцевий результат')\n",
        "plt.show()"
      ],
      "execution_count": null,
      "outputs": [
        {
          "output_type": "display_data",
          "data": {
            "text/markdown": "Критерій закінчення - $\\|\\Delta x\\| \\leq \\epsilon$",
            "text/plain": [
              "<IPython.core.display.Markdown object>"
            ]
          },
          "metadata": {
            "tags": []
          }
        },
        {
          "output_type": "display_data",
          "data": {
            "image/png": "[encoded data removed]",
            "text/plain": [
              "<Figure size 1728x504 with 2 Axes>"
            ]
          },
          "metadata": {
            "tags": [],
            "needs_background": "light"
          }
        }
      ]
    },
    {
      "cell_type": "markdown",
      "metadata": {
        "id": "Qm7Ohj8NZe6-"
      },
      "source": [
        "## Висновки"
      ]
    },
    {
      "cell_type": "markdown",
      "metadata": {
        "id": "tcPYgfw2ZjQt"
      },
      "source": [
        "В ході даної роботи було досліджено збіжність метода Хука-Дживса при мінімізації функції Розенброка.\n",
        "\n",
        "Також було досліджено поведінку функціх при різних критеріях закінчення і опираючись на вищевказані графіки, можна зробити висновок, що використовуючи критерій закінчення \n",
        "* $\\begin{cases}\\frac{\\|x^{k+1}-x^k\\|}{\\|x^k\\|} &\\leq \\epsilon \\\\|f(x^{k+1}) - f(x^k)| &\\leq \\epsilon \\\\ \\end{cases}$\n",
        "\n",
        "функція збігається до мінімуму з меншою швидкістю, ніж використовуючи критерій закінчення \n",
        "* $\\|\\Delta x\\| \\leq \\epsilon$"
      ]
    },
    {
      "cell_type": "markdown",
      "metadata": {
        "id": "blcGD08rZiZz"
      },
      "source": [
        "## Список використаних джерел\n"
      ]
    },
    {
      "cell_type": "markdown",
      "metadata": {
        "id": "7NREfGtKZj11"
      },
      "source": [
        "1. AMO — Advanced Modeling and Optimization, Volume 11, Number 1 - Department of Mathematics and Statistics, University of Canterbury, 2009 (https://camo.ici.ro/journal/vol11/v11a4.pdf)\n",
        "\n",
        "2. Numerical Optimization: Penn State Math 555 Lecture Notes - Christopher Griffin, 2012 (http://www.personal.psu.edu/cxg286/Math555.pdf)\n",
        "\n",
        "3. Банди Б.,Методы оптимизации. Вводный курс. М., 1988 (https://elprivod.nmu.org.ua/files/optimization/Банди_методы%20оптимизации.pdf)\n",
        "\n",
        "4. Методы оптимизации систем автоматизированого проектирования (http://www.optimizaciya-sapr.narod.ru)\n",
        "\n",
        "5. Ладогубец Т.С., Методи оптимізації. Практика 2., 2021 (https://drive.google.com/file/d/1OJ0E8cCos0hXFTsM1Cvp08Hyy5KaNQq8/view?usp=sharing)\n",
        "\n",
        "5. Ладогубец Т.С., Методи оптимізації. Лекція 4., 2021 (https://drive.google.com/file/d/1CTQGX88IPj6HRko77aHITAJ0sWO5Mtqy/view?usp=sharing)\n"
      ]
    }
  ]
}