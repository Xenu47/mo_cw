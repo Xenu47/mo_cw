{
  "nbformat": 4,
  "nbformat_minor": 0,
  "metadata": {
    "colab": {
      "name": "Сторожук Антон, КМ-83, Курсова робота.ipynb",
      "provenance": [],
      "collapsed_sections": [],
      "toc_visible": true,
      "authorship_tag": "ABX9TyOyymwMdVYp4YQN3OOyDgFx",
      "include_colab_link": true
    },
    "kernelspec": {
      "name": "python3",
      "display_name": "Python 3"
    },
    "language_info": {
      "name": "python"
    }
  },
  "cells": [
    {
      "cell_type": "markdown",
      "metadata": {
        "id": "view-in-github",
        "colab_type": "text"
      },
      "source": [
        "<a href=\"https://colab.research.google.com/github/Xenu47/mo_cw/blob/main/%D0%A1%D1%82%D0%BE%D1%80%D0%BE%D0%B6%D1%83%D0%BA_%D0%90%D0%BD%D1%82%D0%BE%D0%BD%2C_%D0%9A%D0%9C_83%2C_%D0%9A%D1%83%D1%80%D1%81%D0%BE%D0%B2%D0%B0_%D1%80%D0%BE%D0%B1%D0%BE%D1%82%D0%B0.ipynb\" target=\"_parent\"><img src=\"https://colab.research.google.com/assets/colab-badge.svg\" alt=\"Open In Colab\"/></a>"
      ]
    },
    {
      "cell_type": "markdown",
      "metadata": {
        "id": "vdaqf6vgTTg4"
      },
      "source": [
        "<left>\n",
        "    <img src=\"https://kpi.ua/files/images/kpi.png\" width=\"300\" alt=\"kpi logo\"  />\n",
        "</left>"
      ]
    },
    {
      "cell_type": "markdown",
      "metadata": {
        "id": "y2VgPk2mTThF"
      },
      "source": [
        "# **Сторожук Антон, КМ-83. Дослідження збіжності метода Хука-Дживса**"
      ]
    },
    {
      "cell_type": "markdown",
      "metadata": {
        "id": "CHwOXFUpTThK"
      },
      "source": [
        "## Зміст"
      ]
    },
    {
      "cell_type": "markdown",
      "metadata": {
        "id": "bHSc4iksTThP"
      },
      "source": [
        "* Зміст\n",
        "* Постановка задачі\n",
        "* Теоретичні відомості \n",
        "* Вирішення задачі\n",
        "  * Імпорт бібліотек\n",
        "  * Створення функцій\n",
        "  * Задання констант\n",
        "  * Виконання розрахунків\n",
        "* Виведення результатів\n",
        "* Висновки\n",
        "* Корисні посилання \n",
        "\n"
      ]
    },
    {
      "cell_type": "markdown",
      "metadata": {
        "id": "rqA6c-eg3df4"
      },
      "source": [
        "## Постановка задачі"
      ]
    },
    {
      "cell_type": "markdown",
      "metadata": {
        "id": "jkRBtAnQTThK"
      },
      "source": [
        "Дослідити збіжність метода Хука-Дживса при мінімізації функції Розенброка в залежності від:\n",
        "1. Значення початкового кроку $\\|\\Delta x\\|$.\n",
        "2. Параметрів методу.\n",
        "3. Вигляду критерію закінчення (\n",
        "$\\begin{cases}\n",
        "\\frac{\\|x^{k+1}-x^k\\|}{\\|x^k\\|} &\\leq \\epsilon \\\\\n",
        "|f(x^{k+1}) - f(x^k)| &\\leq \\epsilon \\\\ \n",
        "\\end{cases}$\n",
        "або $\\|\\Delta x\\| \\leq \\epsilon$).\n",
        "4. Модифікацій методу."
      ]
    },
    {
      "cell_type": "markdown",
      "metadata": {
        "id": "D_YPbUsW4AxB"
      },
      "source": [
        "## Теоретичні відомості"
      ]
    },
    {
      "cell_type": "markdown",
      "metadata": {
        "id": "wCAFlZio4AxX"
      },
      "source": [
        "### Функція Розенброка\n",
        "\n",
        "Функція Розенброка, є класичною тестовою функцією в теорії оптимізації. Іноді її називають функцією банана Розенброка через форму її контурних ліній. Глобальний мінімум знаходиться в точці (1,1), яка лежить у довгій вузькій долині.\n",
        "\n",
        "Тестова функція Розенброка, яка використовується при дослідженні методів для\n",
        "вирішення задач безумовної оптимізації:\n",
        "\n",
        "$f(x_1, x_2) = 100(x_2-x_1^2)^2 + (1-x_2)^2; x^{(0)}=(-1,2;0,0)$"
      ]
    },
    {
      "cell_type": "markdown",
      "metadata": {
        "id": "TUUi4CWu5rit"
      },
      "source": [
        "### Метод Хука–Дживса\n",
        "\n",
        "Метод Хука–Дживса (англ. Hooke — Jeeves) або пошук за зразком (англ. Pattern search) так само, як і метод Нелдера–Міда, призначений для пошуку безумовного локального екстремуму функції і відноситься до прямих методів, тобто спирається безпосередньо на значення функції.\n",
        "\n",
        "Переваги алгоритму:\n",
        "* властивість «прискорюватися», що сприяє підвищенню його загальної ефективності\n",
        "* можливість отримання за його допомогою наближеного рішення, якість якого безупинно підвищується на всіх стадіях чисельного рішення\n",
        "* проста стратегія пошуку і невеликий обсяг необхідної пам'яті\n",
        "\n",
        "Недоліки алгоритму:\n",
        "* алгоритм заснований на циклічному русі по координатам, що може привести до виродження алгоритму в нескінченну послідовність пошуків через дослідження без пошуку за зразком\n",
        "* іноді розв'язком може стати локальний мінімум, а не глобальний, якщо на досліджуваній області присутні кілька мінімумів\n",
        "\n",
        "Алгоритм складається з двох фаз:\n",
        "* Досліджуючий пошук - орієнтований на виявлення характеру локальної поведінки цільової функції та визначення нарямку уздовж «ярів».\n",
        "* Пошук по зразку - використовує інформацію, одержану після проведення досліджуючого пошуку для руху по «ярам».\n",
        "\n",
        "![xp.png](https://drive.google.com/uc?id=1_Tb_FxUptKw5tej2O3T3MezJnDpXifaH)\n",
        "\n",
        "Якщо значення функції в новій точці менше за значення функції в минулій точці, знайденій по зразку то застосовується зменшення значень вектора приросуту:\n",
        "\n",
        "![delta.png](https://drive.google.com/uc?id=1JVSr8LU0vyB-BUxjGKbNVSfJY08O9kU9)\n",
        "\n",
        "Графіки:\n",
        "\n",
        "![graph.png](https://drive.google.com/uc?id=1Uj9hVDb0M-HLKMQpqsE7t7FG9CWuHDbF)\n",
        "\n"
      ]
    },
    {
      "cell_type": "markdown",
      "metadata": {
        "id": "UAv9cVto_b-u"
      },
      "source": [
        "## Вирішення задачі"
      ]
    },
    {
      "cell_type": "markdown",
      "metadata": {
        "id": "IsUEMkwk_XsV"
      },
      "source": [
        "### Імпорт бібліотек"
      ]
    },
    {
      "cell_type": "code",
      "metadata": {
        "id": "8J79Dtw1Dt6w"
      },
      "source": [
        "from sympy import symbols, Eq, N\n",
        "from sympy.solvers import solve\n",
        "import numpy as np\n",
        "import math\n",
        "from IPython.display import Markdown\n",
        "from mpl_toolkits import mplot3d\n",
        "import matplotlib.pyplot as plt"
      ],
      "execution_count": 38,
      "outputs": []
    },
    {
      "cell_type": "markdown",
      "metadata": {
        "id": "RMFQKlk4V5kp"
      },
      "source": [
        "### Створення функцій"
      ]
    },
    {
      "cell_type": "code",
      "metadata": {
        "id": "fMpn_UIp39M4"
      },
      "source": [
        "#@title Значення функції в точці\n",
        "def f(x):\n",
        "    result = function.subs([(x1, x[0]), (x2, x[1])])\n",
        "    return N(result, 3)"
      ],
      "execution_count": 39,
      "outputs": []
    },
    {
      "cell_type": "code",
      "metadata": {
        "id": "gB4-f4XGlCMB"
      },
      "source": [
        "#@title Досліджуючий пошук\n",
        "def exploratory_search(x, delta_x, list_of_x, silent=False):\n",
        "    sign = '+'\n",
        "    f_x = f(x)\n",
        "    xi, di, ki = symbols('xi di ki')\n",
        "    eq = xi + di*(ki)\n",
        "    new_x = x.copy()\n",
        "    new_f_x = list()\n",
        "    index = len(list_of_x)\n",
        "    for i in range(2):\n",
        "        for j in range(2):\n",
        "            plus_minus = ((-1)**(2*i+j))\n",
        "            eq_result = eq.subs(xi, x[i]).subs(di, delta_x[i]).subs(ki, plus_minus) # x[i] +- delta[i]\n",
        "            res = N( eq_result, 3)\n",
        "            new_x[i] = res\n",
        "            func = f(new_x)\n",
        "            new_f_x.append(func)\n",
        "            if not silent:\n",
        "                display(Markdown(rf'$ x_{i+1}^{index} = {x[i]} {\"+\" if plus_minus>0 else \"-\"} {delta_x[i]} = {N(res, 3)}; f({new_x}) = {func} {\"<\" if func<f_x else \">\"} {f_x}$'))\n",
        "        if new_f_x[2*i] < f_x:\n",
        "            new_x[i] = N(new_x[i] + 2*delta_x[i], 3)\n",
        "    list_of_x.append(new_x)\n",
        "    return new_x"
      ],
      "execution_count": 40,
      "outputs": []
    },
    {
      "cell_type": "code",
      "metadata": {
        "id": "5Ili2rXt4NSt"
      },
      "source": [
        "#@title Пошук по зразку\n",
        "def get_xp(list_of_x):\n",
        "    x_current = list_of_x[-1]\n",
        "    x_last = list_of_x[-2]\n",
        "    xp = [2*x_current[i] - x_last[i] for i in range(2)]\n",
        "    return [N(q, 3) for q in xp]"
      ],
      "execution_count": 41,
      "outputs": []
    },
    {
      "cell_type": "code",
      "metadata": {
        "id": "ZtubMIyTUP04"
      },
      "source": [
        "#@title Виведення графіку\n",
        "def make_graph(list_of_x):\n",
        "    color = [q for q in range(len(list_of_x))]\n",
        "    xs = [q[0] for q in list_of_x]\n",
        "    ys = [q[1] for q in list_of_x]\n",
        "    plt.scatter(xs, ys, c = color, cmap ='cividis')\n",
        "    plt.xlim([-2,2])\n",
        "    plt.ylim([-2,2])\n",
        "    plt.show()"
      ],
      "execution_count": 71,
      "outputs": []
    },
    {
      "cell_type": "code",
      "metadata": {
        "id": "e4c_h-h6bR93"
      },
      "source": [
        "#@title Метод Хука-Дживса з покроковим текстовим виводом\n",
        "def solve_hooke_jeeves(function, x_0, base_delta_x, epsilon, cond):\n",
        "    list_of_x = [x_0]\n",
        "    list_of_x_back = list()\n",
        "    delta_x = base_delta_x.copy()\n",
        "    bonus=0\n",
        "\n",
        "    display(Markdown(rf'Мінімізувати функцію: ${str(function).replace(\"**\", \"^\").replace(\"x\", \"x_\")}$'))\n",
        "    display(Markdown(rf'Початкова точка: $x^0 = {x_0}$'))\n",
        "    display(Markdown(rf'Значення приросту: $\\Delta x = {base_delta_x}$'))\n",
        "    display(Markdown(rf'Значення функції: $f(x^0) = {f(x_0)}$'))\n",
        "    print()\n",
        "\n",
        "\n",
        "    display(Markdown(rf'Ітерація 1:'))\n",
        "    display(Markdown(r'Проводиться досліджуючий пошук навколо першої базисної точки $x^0$'))\n",
        "    x_1 = exploratory_search(x_0, delta_x, list_of_x)\n",
        "    xp = get_xp(list_of_x)\n",
        "\n",
        "    display(Markdown(rf'Отримана точка $x^1 = {x_1}$'))\n",
        "    display(Markdown(rf'$x_0 = {list_of_x[-2]}$ - базисна'))\n",
        "    display(Markdown(rf'$x_1 = {x_1}$ - поточна базисна'))\n",
        "    display(Markdown(rf'$x_p^1 = 2x^1 - x^0 = {xp}$'))\n",
        "    display(Markdown(rf'$f(x_p^1) = {f(xp)}$'))\n",
        "    print('\\n')\n",
        "    make_graph(list_of_x)\n",
        "\n",
        "    i = 0\n",
        "    exit_cond_1 = np.linalg.norm(delta_x) <= epsilon\n",
        "    first_cond = np.linalg.norm(np.array(np.subtract(list_of_x[-1],list_of_x[-2]), dtype=np.float64))/np.linalg.norm(np.array(list_of_x[-2], dtype=np.float64)) <= epsilon\n",
        "    second_cond = np.absolute(f(list_of_x[-1]) - f(list_of_x[-2])) <= epsilon\n",
        "    exit_cond_2 = first_cond and second_cond\n",
        "    exit_cond = exit_cond_1 if cond == 1 else exit_cond_2\n",
        "    while not exit_cond:\n",
        "        i+=1\n",
        "        \n",
        "        display(Markdown(rf'Ітерація {i+1+bonus}:'))\n",
        "        xn = exploratory_search(xp, delta_x, list_of_x)\n",
        "        display(Markdown(rf'Проводиться досліджуючий пошук навколо точки $x_p^{i}$'))\n",
        "        display(Markdown(rf'Отримана точка $x^{i+1} = {xn}$'))\n",
        "\n",
        "        exit_cond_1 = np.linalg.norm(delta_x) <= epsilon\n",
        "        first_cond = np.linalg.norm(np.array(np.subtract(list_of_x[-1],list_of_x[-2]), dtype=np.float64))/np.linalg.norm(np.array(list_of_x[-2], dtype=np.float64)) <= epsilon\n",
        "        second_cond = np.absolute(f(list_of_x[-1]) - f(list_of_x[-2])) <= epsilon\n",
        "        exit_cond_2 = first_cond and second_cond\n",
        "        exit_cond = exit_cond_1 if cond == 1 else exit_cond_2\n",
        "\n",
        "\n",
        "        if f(list_of_x[-1]) < f(list_of_x[-2]):\n",
        "            xp = get_xp(list_of_x)\n",
        "\n",
        "            display(Markdown(rf'Оскільки $f({list_of_x[-1]}) = {f(list_of_x[-1])} < f({list_of_x[-2]}) = {f(list_of_x[-2])}$ $\\Rightarrow$'))\n",
        "            display(Markdown(rf'$x_{i} = {list_of_x[-2]}$ - базисна'))\n",
        "            display(Markdown(rf'$x_{i+1} = {xn}$ - поточна базисна'))\n",
        "            if exit_cond:\n",
        "                make_graph(list_of_x)\n",
        "                break\n",
        "            display(Markdown(rf'З поточної базисної точки $x^{i+1}$ проводиться пошук за зразком:'))\n",
        "            display(Markdown(rf'$x_p^{i+1} = 2x^{i+1} - x^{i} = {xp}$'))\n",
        "            display(Markdown(rf'$f(x_p^{i+1}) = {f(xp)}$'))\n",
        "        \n",
        "        else:\n",
        "            delta_x = [x/2 for x in delta_x]\n",
        "            make_graph(list_of_x)\n",
        "            \n",
        "            display(Markdown(rf'**Оскільки** $f({list_of_x[-1]}) = {f(list_of_x[-1])} > f({list_of_x[-2]}) = {f(list_of_x[-2])}$ $\\Rightarrow$'))\n",
        "            display(Markdown(rf'Пошук не є успішним, необхідно зменшити значення приросту:'))\n",
        "            display(Markdown(r'$\\Delta x_{new} = \\frac{\\Delta x_{last}}{2} =$'+rf'{delta_x}'))\n",
        "            display(Markdown(rf'І провести досліджуючий пошук навколо останньої базисної точки $x^{i-1} = {list_of_x[-3]}$'))\n",
        "            print('\\n')\n",
        "\n",
        "            list_of_x_back = list_of_x.copy()\n",
        "            list_of_x = list_of_x[:-2]\n",
        "            i = i-2\n",
        "            bonus = 2\n",
        "            xp = list_of_x[-1]\n",
        "            continue\n",
        "\n",
        "        make_graph(list_of_x)\n",
        "        print('\\n')\n",
        "    return list_of_x[-1]"
      ],
      "execution_count": 67,
      "outputs": []
    },
    {
      "cell_type": "code",
      "metadata": {
        "id": "YbkCoKH7d2Ln",
        "cellView": "form"
      },
      "source": [
        "#@title Метод Хука-Дживса без покрокового текстового виводу\n",
        "#@markdown Ідентичній попередньому, але без тексту\n",
        "def solve_hooke_jeeves_silent(function, x_0, base_delta_x, epsilon, cond):\n",
        "    list_of_x = [x_0]\n",
        "    list_of_x_back = list()\n",
        "    delta_x = base_delta_x.copy()\n",
        "    bonus=0\n",
        "\n",
        "    x_1 = exploratory_search(x_0, delta_x, list_of_x, True)\n",
        "    xp = get_xp(list_of_x)\n",
        "\n",
        "    i = 0\n",
        "    exit_cond_1 = np.linalg.norm(delta_x) <= epsilon\n",
        "    first_cond = np.linalg.norm(np.array(np.subtract(list_of_x[-1],list_of_x[-2]), dtype=np.float64))/np.linalg.norm(np.array(list_of_x[-2], dtype=np.float64)) <= epsilon\n",
        "    second_cond = np.absolute(f(list_of_x[-1]) - f(list_of_x[-2])) <= epsilon\n",
        "    exit_cond_2 = first_cond and second_cond\n",
        "    exit_cond = exit_cond_1 if cond == 1 else exit_cond_2\n",
        "    while not exit_cond:\n",
        "        i+=1\n",
        "        \n",
        "        xn = exploratory_search(xp, delta_x, list_of_x, True)\n",
        "\n",
        "        exit_cond_1 = np.linalg.norm(delta_x) <= epsilon\n",
        "        first_cond = np.linalg.norm(np.array(np.subtract(list_of_x[-1],list_of_x[-2]), dtype=np.float64))/np.linalg.norm(np.array(list_of_x[-2], dtype=np.float64)) <= epsilon\n",
        "        second_cond = np.absolute(f(list_of_x[-1]) - f(list_of_x[-2])) <= epsilon\n",
        "        exit_cond_2 = first_cond and second_cond\n",
        "        exit_cond = exit_cond_1 if cond == 1 else exit_cond_2\n",
        "        \n",
        "        if f(list_of_x[-1]) < f(list_of_x[-2]):\n",
        "            xp = get_xp(list_of_x)\n",
        "            if exit_cond:\n",
        "                break\n",
        "        else:\n",
        "            delta_x = [x/2 for x in delta_x]\n",
        "            list_of_x_back = list_of_x.copy()\n",
        "            list_of_x = list_of_x[:-2]\n",
        "            i = i-2\n",
        "            bonus = 2\n",
        "            xp = list_of_x[-1]\n",
        "            continue\n",
        "    return list_of_x[-1]"
      ],
      "execution_count": 43,
      "outputs": []
    },
    {
      "cell_type": "code",
      "metadata": {
        "id": "ldK2tkJFApIC"
      },
      "source": [
        "#@title Задання констант\n",
        "x1, x2 = symbols('x1 x2')\n",
        "function = 100*(x2-x1**2)**2 + (1-x2)**2\n",
        "x_0 = [-1.2,0.0]\n",
        "base_delta_x = [0.6,0.8]\n",
        "epsilon = 0.5\n",
        "exit_condition = 2 # 1 == ||delta x|| <= epsilon"
      ],
      "execution_count": 64,
      "outputs": []
    },
    {
      "cell_type": "code",
      "metadata": {
        "colab": {
          "base_uri": "https://localhost:8080/",
          "height": 7469
        },
        "id": "ApjW4uH3oLWw",
        "outputId": "43d67402-d100-49bc-eca3-8129c038c1f4"
      },
      "source": [
        "#@title Виконання розрахунків + виведення результатів\n",
        "from IPython.display import Javascript\n",
        "display(Javascript('''google.colab.output.setIframeHeight(0, true, {maxHeight: 50000})'''))\n",
        "\n",
        "solve_hooke_jeeves(function, x_0, base_delta_x, epsilon, exit_condition)"
      ],
      "execution_count": 72,
      "outputs": [
        {
          "output_type": "display_data",
          "data": {
            "application/javascript": [
              "google.colab.output.setIframeHeight(0, true, {maxHeight: 50000})"
            ],
            "text/plain": [
              "<IPython.core.display.Javascript object>"
            ]
          },
          "metadata": {
            "tags": []
          }
        },
        {
          "output_type": "display_data",
          "data": {
            "text/markdown": "Мінімізувати функцію: $(1 - x_2)^2 + 100*(-x_1^2 + x_2)^2$",
            "text/plain": [
              "<IPython.core.display.Markdown object>"
            ]
          },
          "metadata": {
            "tags": []
          }
        },
        {
          "output_type": "display_data",
          "data": {
            "text/markdown": "Початкова точка: $x^0 = [-1.2, 0.0]$",
            "text/plain": [
              "<IPython.core.display.Markdown object>"
            ]
          },
          "metadata": {
            "tags": []
          }
        },
        {
          "output_type": "display_data",
          "data": {
            "text/markdown": "Значення приросту: $\\Delta x = [0.6, 0.8]$",
            "text/plain": [
              "<IPython.core.display.Markdown object>"
            ]
          },
          "metadata": {
            "tags": []
          }
        },
        {
          "output_type": "display_data",
          "data": {
            "text/markdown": "Значення функції: $f(x^0) = 208$",
            "text/plain": [
              "<IPython.core.display.Markdown object>"
            ]
          },
          "metadata": {
            "tags": []
          }
        },
        {
          "output_type": "stream",
          "text": [
            "\n"
          ],
          "name": "stdout"
        },
        {
          "output_type": "display_data",
          "data": {
            "text/markdown": "Ітерація 1:",
            "text/plain": [
              "<IPython.core.display.Markdown object>"
            ]
          },
          "metadata": {
            "tags": []
          }
        },
        {
          "output_type": "display_data",
          "data": {
            "text/markdown": "Проводиться досліджуючий пошук навколо першої базисної точки $x^0$",
            "text/plain": [
              "<IPython.core.display.Markdown object>"
            ]
          },
          "metadata": {
            "tags": []
          }
        },
        {
          "output_type": "display_data",
          "data": {
            "text/markdown": "$ x_1^1 = -1.2 + 0.6 = -0.600; f([-0.600, 0.0]) = 14.0 < 208$",
            "text/plain": [
              "<IPython.core.display.Markdown object>"
            ]
          },
          "metadata": {
            "tags": []
          }
        },
        {
          "output_type": "display_data",
          "data": {
            "text/markdown": "$ x_1^1 = -1.2 - 0.6 = -1.80; f([-1.80, 0.0]) = 1.05E+3 > 208$",
            "text/plain": [
              "<IPython.core.display.Markdown object>"
            ]
          },
          "metadata": {
            "tags": []
          }
        },
        {
          "output_type": "display_data",
          "data": {
            "text/markdown": "$ x_2^1 = 0.0 + 0.8 = 0.800; f([-0.600, 0.800]) = 19.4 < 208$",
            "text/plain": [
              "<IPython.core.display.Markdown object>"
            ]
          },
          "metadata": {
            "tags": []
          }
        },
        {
          "output_type": "display_data",
          "data": {
            "text/markdown": "$ x_2^1 = 0.0 - 0.8 = -0.800; f([-0.600, -0.800]) = 138 < 208$",
            "text/plain": [
              "<IPython.core.display.Markdown object>"
            ]
          },
          "metadata": {
            "tags": []
          }
        },
        {
          "output_type": "display_data",
          "data": {
            "text/markdown": "Отримана точка $x^1 = [-0.600, 0.800]$",
            "text/plain": [
              "<IPython.core.display.Markdown object>"
            ]
          },
          "metadata": {
            "tags": []
          }
        },
        {
          "output_type": "display_data",
          "data": {
            "text/markdown": "$x_0 = [-1.2, 0.0]$ - базисна",
            "text/plain": [
              "<IPython.core.display.Markdown object>"
            ]
          },
          "metadata": {
            "tags": []
          }
        },
        {
          "output_type": "display_data",
          "data": {
            "text/markdown": "$x_1 = [-0.600, 0.800]$ - поточна базисна",
            "text/plain": [
              "<IPython.core.display.Markdown object>"
            ]
          },
          "metadata": {
            "tags": []
          }
        },
        {
          "output_type": "display_data",
          "data": {
            "text/markdown": "$x_p^1 = 2x^1 - x^0 = [-0.000195, 1.60]$",
            "text/plain": [
              "<IPython.core.display.Markdown object>"
            ]
          },
          "metadata": {
            "tags": []
          }
        },
        {
          "output_type": "display_data",
          "data": {
            "text/markdown": "$f(x_p^1) = 256$",
            "text/plain": [
              "<IPython.core.display.Markdown object>"
            ]
          },
          "metadata": {
            "tags": []
          }
        },
        {
          "output_type": "stream",
          "text": [
            "\n",
            "\n"
          ],
          "name": "stdout"
        },
        {
          "output_type": "display_data",
          "data": {
            "image/png": "[encoded data removed]",
            "text/plain": [
              "<Figure size 432x288 with 1 Axes>"
            ]
          },
          "metadata": {
            "tags": [],
            "needs_background": "light"
          }
        },
        {
          "output_type": "display_data",
          "data": {
            "text/markdown": "Ітерація 2:",
            "text/plain": [
              "<IPython.core.display.Markdown object>"
            ]
          },
          "metadata": {
            "tags": []
          }
        },
        {
          "output_type": "display_data",
          "data": {
            "text/markdown": "$ x_1^2 = -0.000195 + 0.6 = 0.600; f([0.600, 1.60]) = 154 < 256$",
            "text/plain": [
              "<IPython.core.display.Markdown object>"
            ]
          },
          "metadata": {
            "tags": []
          }
        },
        {
          "output_type": "display_data",
          "data": {
            "text/markdown": "$ x_1^2 = -0.000195 - 0.6 = -0.600; f([-0.600, 1.60]) = 154 < 256$",
            "text/plain": [
              "<IPython.core.display.Markdown object>"
            ]
          },
          "metadata": {
            "tags": []
          }
        },
        {
          "output_type": "display_data",
          "data": {
            "text/markdown": "$ x_2^2 = 1.60 + 0.8 = 2.40; f([0.600, 2.40]) = 418 > 256$",
            "text/plain": [
              "<IPython.core.display.Markdown object>"
            ]
          },
          "metadata": {
            "tags": []
          }
        },
        {
          "output_type": "display_data",
          "data": {
            "text/markdown": "$ x_2^2 = 1.60 - 0.8 = 0.800; f([0.600, 0.800]) = 19.4 < 256$",
            "text/plain": [
              "<IPython.core.display.Markdown object>"
            ]
          },
          "metadata": {
            "tags": []
          }
        },
        {
          "output_type": "display_data",
          "data": {
            "text/markdown": "Проводиться досліджуючий пошук навколо точки $x_p^1$",
            "text/plain": [
              "<IPython.core.display.Markdown object>"
            ]
          },
          "metadata": {
            "tags": []
          }
        },
        {
          "output_type": "display_data",
          "data": {
            "text/markdown": "Отримана точка $x^2 = [0.600, 0.800]$",
            "text/plain": [
              "<IPython.core.display.Markdown object>"
            ]
          },
          "metadata": {
            "tags": []
          }
        },
        {
          "output_type": "display_data",
          "data": {
            "image/png": "[encoded data removed]",
            "text/plain": [
              "<Figure size 432x288 with 1 Axes>"
            ]
          },
          "metadata": {
            "tags": [],
            "needs_background": "light"
          }
        },
        {
          "output_type": "display_data",
          "data": {
            "text/markdown": "**Оскільки** $f([0.600, 0.800]) = 19.4 > f([-0.600, 0.800]) = 19.4$ $\\Rightarrow$",
            "text/plain": [
              "<IPython.core.display.Markdown object>"
            ]
          },
          "metadata": {
            "tags": []
          }
        },
        {
          "output_type": "display_data",
          "data": {
            "text/markdown": "Пошук не є успішним, необхідно зменшити значення приросту:",
            "text/plain": [
              "<IPython.core.display.Markdown object>"
            ]
          },
          "metadata": {
            "tags": []
          }
        },
        {
          "output_type": "display_data",
          "data": {
            "text/markdown": "$\\Delta x_{new} = \\frac{\\Delta x_{last}}{2} =$[0.3, 0.4]",
            "text/plain": [
              "<IPython.core.display.Markdown object>"
            ]
          },
          "metadata": {
            "tags": []
          }
        },
        {
          "output_type": "display_data",
          "data": {
            "text/markdown": "І провести досліджуючий пошук навколо останньої базисної точки $x^0 = [-1.2, 0.0]$",
            "text/plain": [
              "<IPython.core.display.Markdown object>"
            ]
          },
          "metadata": {
            "tags": []
          }
        },
        {
          "output_type": "stream",
          "text": [
            "\n",
            "\n"
          ],
          "name": "stdout"
        },
        {
          "output_type": "display_data",
          "data": {
            "text/markdown": "Ітерація 3:",
            "text/plain": [
              "<IPython.core.display.Markdown object>"
            ]
          },
          "metadata": {
            "tags": []
          }
        },
        {
          "output_type": "display_data",
          "data": {
            "text/markdown": "$ x_1^1 = -1.2 + 0.3 = -0.900; f([-0.900, 0.0]) = 66.6 < 208$",
            "text/plain": [
              "<IPython.core.display.Markdown object>"
            ]
          },
          "metadata": {
            "tags": []
          }
        },
        {
          "output_type": "display_data",
          "data": {
            "text/markdown": "$ x_1^1 = -1.2 - 0.3 = -1.50; f([-1.50, 0.0]) = 507 > 208$",
            "text/plain": [
              "<IPython.core.display.Markdown object>"
            ]
          },
          "metadata": {
            "tags": []
          }
        },
        {
          "output_type": "display_data",
          "data": {
            "text/markdown": "$ x_2^1 = 0.0 + 0.4 = 0.400; f([-0.900, 0.400]) = 17.2 < 208$",
            "text/plain": [
              "<IPython.core.display.Markdown object>"
            ]
          },
          "metadata": {
            "tags": []
          }
        },
        {
          "output_type": "display_data",
          "data": {
            "text/markdown": "$ x_2^1 = 0.0 - 0.4 = -0.400; f([-0.900, -0.400]) = 148 < 208$",
            "text/plain": [
              "<IPython.core.display.Markdown object>"
            ]
          },
          "metadata": {
            "tags": []
          }
        },
        {
          "output_type": "display_data",
          "data": {
            "text/markdown": "Проводиться досліджуючий пошук навколо точки $x_p^0$",
            "text/plain": [
              "<IPython.core.display.Markdown object>"
            ]
          },
          "metadata": {
            "tags": []
          }
        },
        {
          "output_type": "display_data",
          "data": {
            "text/markdown": "Отримана точка $x^1 = [-0.900, 0.400]$",
            "text/plain": [
              "<IPython.core.display.Markdown object>"
            ]
          },
          "metadata": {
            "tags": []
          }
        },
        {
          "output_type": "display_data",
          "data": {
            "text/markdown": "Оскільки $f([-0.900, 0.400]) = 17.2 < f([-1.2, 0.0]) = 208$ $\\Rightarrow$",
            "text/plain": [
              "<IPython.core.display.Markdown object>"
            ]
          },
          "metadata": {
            "tags": []
          }
        },
        {
          "output_type": "display_data",
          "data": {
            "text/markdown": "$x_0 = [-1.2, 0.0]$ - базисна",
            "text/plain": [
              "<IPython.core.display.Markdown object>"
            ]
          },
          "metadata": {
            "tags": []
          }
        },
        {
          "output_type": "display_data",
          "data": {
            "text/markdown": "$x_1 = [-0.900, 0.400]$ - поточна базисна",
            "text/plain": [
              "<IPython.core.display.Markdown object>"
            ]
          },
          "metadata": {
            "tags": []
          }
        },
        {
          "output_type": "display_data",
          "data": {
            "text/markdown": "З поточної базисної точки $x^1$ проводиться пошук за зразком:",
            "text/plain": [
              "<IPython.core.display.Markdown object>"
            ]
          },
          "metadata": {
            "tags": []
          }
        },
        {
          "output_type": "display_data",
          "data": {
            "text/markdown": "$x_p^1 = 2x^1 - x^0 = [-0.600, 0.800]$",
            "text/plain": [
              "<IPython.core.display.Markdown object>"
            ]
          },
          "metadata": {
            "tags": []
          }
        },
        {
          "output_type": "display_data",
          "data": {
            "text/markdown": "$f(x_p^1) = 19.4$",
            "text/plain": [
              "<IPython.core.display.Markdown object>"
            ]
          },
          "metadata": {
            "tags": []
          }
        },
        {
          "output_type": "display_data",
          "data": {
            "image/png": "[encoded data removed]",
            "text/plain": [
              "<Figure size 432x288 with 1 Axes>"
            ]
          },
          "metadata": {
            "tags": [],
            "needs_background": "light"
          }
        },
        {
          "output_type": "stream",
          "text": [
            "\n",
            "\n"
          ],
          "name": "stdout"
        },
        {
          "output_type": "display_data",
          "data": {
            "text/markdown": "Ітерація 4:",
            "text/plain": [
              "<IPython.core.display.Markdown object>"
            ]
          },
          "metadata": {
            "tags": []
          }
        },
        {
          "output_type": "display_data",
          "data": {
            "text/markdown": "$ x_1^2 = -0.600 + 0.3 = -0.300; f([-0.300, 0.800]) = 50.4 > 19.4$",
            "text/plain": [
              "<IPython.core.display.Markdown object>"
            ]
          },
          "metadata": {
            "tags": []
          }
        },
        {
          "output_type": "display_data",
          "data": {
            "text/markdown": "$ x_1^2 = -0.600 - 0.3 = -0.900; f([-0.900, 0.800]) = 0.0508 < 19.4$",
            "text/plain": [
              "<IPython.core.display.Markdown object>"
            ]
          },
          "metadata": {
            "tags": []
          }
        },
        {
          "output_type": "display_data",
          "data": {
            "text/markdown": "$ x_2^2 = 0.800 + 0.4 = 1.20; f([-0.900, 1.20]) = 15.2 < 19.4$",
            "text/plain": [
              "<IPython.core.display.Markdown object>"
            ]
          },
          "metadata": {
            "tags": []
          }
        },
        {
          "output_type": "display_data",
          "data": {
            "text/markdown": "$ x_2^2 = 0.800 - 0.4 = 0.400; f([-0.900, 0.400]) = 17.2 < 19.4$",
            "text/plain": [
              "<IPython.core.display.Markdown object>"
            ]
          },
          "metadata": {
            "tags": []
          }
        },
        {
          "output_type": "display_data",
          "data": {
            "text/markdown": "Проводиться досліджуючий пошук навколо точки $x_p^1$",
            "text/plain": [
              "<IPython.core.display.Markdown object>"
            ]
          },
          "metadata": {
            "tags": []
          }
        },
        {
          "output_type": "display_data",
          "data": {
            "text/markdown": "Отримана точка $x^2 = [-0.900, 1.20]$",
            "text/plain": [
              "<IPython.core.display.Markdown object>"
            ]
          },
          "metadata": {
            "tags": []
          }
        },
        {
          "output_type": "display_data",
          "data": {
            "text/markdown": "Оскільки $f([-0.900, 1.20]) = 15.2 < f([-0.900, 0.400]) = 17.2$ $\\Rightarrow$",
            "text/plain": [
              "<IPython.core.display.Markdown object>"
            ]
          },
          "metadata": {
            "tags": []
          }
        },
        {
          "output_type": "display_data",
          "data": {
            "text/markdown": "$x_1 = [-0.900, 0.400]$ - базисна",
            "text/plain": [
              "<IPython.core.display.Markdown object>"
            ]
          },
          "metadata": {
            "tags": []
          }
        },
        {
          "output_type": "display_data",
          "data": {
            "text/markdown": "$x_2 = [-0.900, 1.20]$ - поточна базисна",
            "text/plain": [
              "<IPython.core.display.Markdown object>"
            ]
          },
          "metadata": {
            "tags": []
          }
        },
        {
          "output_type": "display_data",
          "data": {
            "text/markdown": "З поточної базисної точки $x^2$ проводиться пошук за зразком:",
            "text/plain": [
              "<IPython.core.display.Markdown object>"
            ]
          },
          "metadata": {
            "tags": []
          }
        },
        {
          "output_type": "display_data",
          "data": {
            "text/markdown": "$x_p^2 = 2x^2 - x^1 = [-0.900, 2.00]$",
            "text/plain": [
              "<IPython.core.display.Markdown object>"
            ]
          },
          "metadata": {
            "tags": []
          }
        },
        {
          "output_type": "display_data",
          "data": {
            "text/markdown": "$f(x_p^2) = 142$",
            "text/plain": [
              "<IPython.core.display.Markdown object>"
            ]
          },
          "metadata": {
            "tags": []
          }
        },
        {
          "output_type": "display_data",
          "data": {
            "image/png": "[encoded data removed]",
            "text/plain": [
              "<Figure size 432x288 with 1 Axes>"
            ]
          },
          "metadata": {
            "tags": [],
            "needs_background": "light"
          }
        },
        {
          "output_type": "stream",
          "text": [
            "\n",
            "\n"
          ],
          "name": "stdout"
        },
        {
          "output_type": "display_data",
          "data": {
            "text/markdown": "Ітерація 5:",
            "text/plain": [
              "<IPython.core.display.Markdown object>"
            ]
          },
          "metadata": {
            "tags": []
          }
        },
        {
          "output_type": "display_data",
          "data": {
            "text/markdown": "$ x_1^3 = -0.900 + 0.3 = -0.600; f([-0.600, 2.00]) = 270 > 142$",
            "text/plain": [
              "<IPython.core.display.Markdown object>"
            ]
          },
          "metadata": {
            "tags": []
          }
        },
        {
          "output_type": "display_data",
          "data": {
            "text/markdown": "$ x_1^3 = -0.900 - 0.3 = -1.20; f([-1.20, 2.00]) = 32.3 < 142$",
            "text/plain": [
              "<IPython.core.display.Markdown object>"
            ]
          },
          "metadata": {
            "tags": []
          }
        },
        {
          "output_type": "display_data",
          "data": {
            "text/markdown": "$ x_2^3 = 2.00 + 0.4 = 2.40; f([-1.20, 2.40]) = 94.0 < 142$",
            "text/plain": [
              "<IPython.core.display.Markdown object>"
            ]
          },
          "metadata": {
            "tags": []
          }
        },
        {
          "output_type": "display_data",
          "data": {
            "text/markdown": "$ x_2^3 = 2.00 - 0.4 = 1.60; f([-1.20, 1.60]) = 2.91 < 142$",
            "text/plain": [
              "<IPython.core.display.Markdown object>"
            ]
          },
          "metadata": {
            "tags": []
          }
        },
        {
          "output_type": "display_data",
          "data": {
            "text/markdown": "Проводиться досліджуючий пошук навколо точки $x_p^2$",
            "text/plain": [
              "<IPython.core.display.Markdown object>"
            ]
          },
          "metadata": {
            "tags": []
          }
        },
        {
          "output_type": "display_data",
          "data": {
            "text/markdown": "Отримана точка $x^3 = [-1.20, 2.40]$",
            "text/plain": [
              "<IPython.core.display.Markdown object>"
            ]
          },
          "metadata": {
            "tags": []
          }
        },
        {
          "output_type": "display_data",
          "data": {
            "image/png": "[encoded data removed]",
            "text/plain": [
              "<Figure size 432x288 with 1 Axes>"
            ]
          },
          "metadata": {
            "tags": [],
            "needs_background": "light"
          }
        },
        {
          "output_type": "display_data",
          "data": {
            "text/markdown": "**Оскільки** $f([-1.20, 2.40]) = 94.0 > f([-0.900, 1.20]) = 15.2$ $\\Rightarrow$",
            "text/plain": [
              "<IPython.core.display.Markdown object>"
            ]
          },
          "metadata": {
            "tags": []
          }
        },
        {
          "output_type": "display_data",
          "data": {
            "text/markdown": "Пошук не є успішним, необхідно зменшити значення приросту:",
            "text/plain": [
              "<IPython.core.display.Markdown object>"
            ]
          },
          "metadata": {
            "tags": []
          }
        },
        {
          "output_type": "display_data",
          "data": {
            "text/markdown": "$\\Delta x_{new} = \\frac{\\Delta x_{last}}{2} =$[0.15, 0.2]",
            "text/plain": [
              "<IPython.core.display.Markdown object>"
            ]
          },
          "metadata": {
            "tags": []
          }
        },
        {
          "output_type": "display_data",
          "data": {
            "text/markdown": "І провести досліджуючий пошук навколо останньої базисної точки $x^1 = [-0.900, 0.400]$",
            "text/plain": [
              "<IPython.core.display.Markdown object>"
            ]
          },
          "metadata": {
            "tags": []
          }
        },
        {
          "output_type": "stream",
          "text": [
            "\n",
            "\n"
          ],
          "name": "stdout"
        },
        {
          "output_type": "display_data",
          "data": {
            "text/markdown": "Ітерація 4:",
            "text/plain": [
              "<IPython.core.display.Markdown object>"
            ]
          },
          "metadata": {
            "tags": []
          }
        },
        {
          "output_type": "display_data",
          "data": {
            "text/markdown": "$ x_1^2 = -0.900 + 0.15 = -0.750; f([-0.750, 0.400]) = 3.00 < 17.2$",
            "text/plain": [
              "<IPython.core.display.Markdown object>"
            ]
          },
          "metadata": {
            "tags": []
          }
        },
        {
          "output_type": "display_data",
          "data": {
            "text/markdown": "$ x_1^2 = -0.900 - 0.15 = -1.05; f([-1.05, 0.400]) = 49.7 > 17.2$",
            "text/plain": [
              "<IPython.core.display.Markdown object>"
            ]
          },
          "metadata": {
            "tags": []
          }
        },
        {
          "output_type": "display_data",
          "data": {
            "text/markdown": "$ x_2^2 = 0.400 + 0.2 = 0.600; f([-0.750, 0.600]) = 0.300 < 17.2$",
            "text/plain": [
              "<IPython.core.display.Markdown object>"
            ]
          },
          "metadata": {
            "tags": []
          }
        },
        {
          "output_type": "display_data",
          "data": {
            "text/markdown": "$ x_2^2 = 0.400 - 0.2 = 0.200; f([-0.750, 0.200]) = 13.8 < 17.2$",
            "text/plain": [
              "<IPython.core.display.Markdown object>"
            ]
          },
          "metadata": {
            "tags": []
          }
        },
        {
          "output_type": "display_data",
          "data": {
            "text/markdown": "Проводиться досліджуючий пошук навколо точки $x_p^1$",
            "text/plain": [
              "<IPython.core.display.Markdown object>"
            ]
          },
          "metadata": {
            "tags": []
          }
        },
        {
          "output_type": "display_data",
          "data": {
            "text/markdown": "Отримана точка $x^2 = [-0.750, 0.600]$",
            "text/plain": [
              "<IPython.core.display.Markdown object>"
            ]
          },
          "metadata": {
            "tags": []
          }
        },
        {
          "output_type": "display_data",
          "data": {
            "text/markdown": "Оскільки $f([-0.750, 0.600]) = 0.300 < f([-0.900, 0.400]) = 17.2$ $\\Rightarrow$",
            "text/plain": [
              "<IPython.core.display.Markdown object>"
            ]
          },
          "metadata": {
            "tags": []
          }
        },
        {
          "output_type": "display_data",
          "data": {
            "text/markdown": "$x_1 = [-0.900, 0.400]$ - базисна",
            "text/plain": [
              "<IPython.core.display.Markdown object>"
            ]
          },
          "metadata": {
            "tags": []
          }
        },
        {
          "output_type": "display_data",
          "data": {
            "text/markdown": "$x_2 = [-0.750, 0.600]$ - поточна базисна",
            "text/plain": [
              "<IPython.core.display.Markdown object>"
            ]
          },
          "metadata": {
            "tags": []
          }
        },
        {
          "output_type": "display_data",
          "data": {
            "text/markdown": "З поточної базисної точки $x^2$ проводиться пошук за зразком:",
            "text/plain": [
              "<IPython.core.display.Markdown object>"
            ]
          },
          "metadata": {
            "tags": []
          }
        },
        {
          "output_type": "display_data",
          "data": {
            "text/markdown": "$x_p^2 = 2x^2 - x^1 = [-0.600, 0.800]$",
            "text/plain": [
              "<IPython.core.display.Markdown object>"
            ]
          },
          "metadata": {
            "tags": []
          }
        },
        {
          "output_type": "display_data",
          "data": {
            "text/markdown": "$f(x_p^2) = 19.4$",
            "text/plain": [
              "<IPython.core.display.Markdown object>"
            ]
          },
          "metadata": {
            "tags": []
          }
        },
        {
          "output_type": "display_data",
          "data": {
            "image/png": "[encoded data removed]",
            "text/plain": [
              "<Figure size 432x288 with 1 Axes>"
            ]
          },
          "metadata": {
            "tags": [],
            "needs_background": "light"
          }
        },
        {
          "output_type": "stream",
          "text": [
            "\n",
            "\n"
          ],
          "name": "stdout"
        },
        {
          "output_type": "display_data",
          "data": {
            "text/markdown": "Ітерація 5:",
            "text/plain": [
              "<IPython.core.display.Markdown object>"
            ]
          },
          "metadata": {
            "tags": []
          }
        },
        {
          "output_type": "display_data",
          "data": {
            "text/markdown": "$ x_1^3 = -0.600 + 0.15 = -0.450; f([-0.450, 0.800]) = 35.8 > 19.4$",
            "text/plain": [
              "<IPython.core.display.Markdown object>"
            ]
          },
          "metadata": {
            "tags": []
          }
        },
        {
          "output_type": "display_data",
          "data": {
            "text/markdown": "$ x_1^3 = -0.600 - 0.15 = -0.750; f([-0.750, 0.800]) = 5.68 < 19.4$",
            "text/plain": [
              "<IPython.core.display.Markdown object>"
            ]
          },
          "metadata": {
            "tags": []
          }
        },
        {
          "output_type": "display_data",
          "data": {
            "text/markdown": "$ x_2^3 = 0.800 + 0.2 = 1.00; f([-0.750, 1.00]) = 19.1 < 19.4$",
            "text/plain": [
              "<IPython.core.display.Markdown object>"
            ]
          },
          "metadata": {
            "tags": []
          }
        },
        {
          "output_type": "display_data",
          "data": {
            "text/markdown": "$ x_2^3 = 0.800 - 0.2 = 0.600; f([-0.750, 0.600]) = 0.301 < 19.4$",
            "text/plain": [
              "<IPython.core.display.Markdown object>"
            ]
          },
          "metadata": {
            "tags": []
          }
        },
        {
          "output_type": "display_data",
          "data": {
            "text/markdown": "Проводиться досліджуючий пошук навколо точки $x_p^2$",
            "text/plain": [
              "<IPython.core.display.Markdown object>"
            ]
          },
          "metadata": {
            "tags": []
          }
        },
        {
          "output_type": "display_data",
          "data": {
            "text/markdown": "Отримана точка $x^3 = [-0.750, 1.00]$",
            "text/plain": [
              "<IPython.core.display.Markdown object>"
            ]
          },
          "metadata": {
            "tags": []
          }
        },
        {
          "output_type": "display_data",
          "data": {
            "image/png": "[encoded data removed]",
            "text/plain": [
              "<Figure size 432x288 with 1 Axes>"
            ]
          },
          "metadata": {
            "tags": [],
            "needs_background": "light"
          }
        },
        {
          "output_type": "display_data",
          "data": {
            "text/markdown": "**Оскільки** $f([-0.750, 1.00]) = 19.1 > f([-0.750, 0.600]) = 0.300$ $\\Rightarrow$",
            "text/plain": [
              "<IPython.core.display.Markdown object>"
            ]
          },
          "metadata": {
            "tags": []
          }
        },
        {
          "output_type": "display_data",
          "data": {
            "text/markdown": "Пошук не є успішним, необхідно зменшити значення приросту:",
            "text/plain": [
              "<IPython.core.display.Markdown object>"
            ]
          },
          "metadata": {
            "tags": []
          }
        },
        {
          "output_type": "display_data",
          "data": {
            "text/markdown": "$\\Delta x_{new} = \\frac{\\Delta x_{last}}{2} =$[0.075, 0.1]",
            "text/plain": [
              "<IPython.core.display.Markdown object>"
            ]
          },
          "metadata": {
            "tags": []
          }
        },
        {
          "output_type": "display_data",
          "data": {
            "text/markdown": "І провести досліджуючий пошук навколо останньої базисної точки $x^1 = [-0.900, 0.400]$",
            "text/plain": [
              "<IPython.core.display.Markdown object>"
            ]
          },
          "metadata": {
            "tags": []
          }
        },
        {
          "output_type": "stream",
          "text": [
            "\n",
            "\n"
          ],
          "name": "stdout"
        },
        {
          "output_type": "display_data",
          "data": {
            "text/markdown": "Ітерація 4:",
            "text/plain": [
              "<IPython.core.display.Markdown object>"
            ]
          },
          "metadata": {
            "tags": []
          }
        },
        {
          "output_type": "display_data",
          "data": {
            "text/markdown": "$ x_1^2 = -0.900 + 0.075 = -0.825; f([-0.825, 0.400]) = 8.25 < 17.2$",
            "text/plain": [
              "<IPython.core.display.Markdown object>"
            ]
          },
          "metadata": {
            "tags": []
          }
        },
        {
          "output_type": "display_data",
          "data": {
            "text/markdown": "$ x_1^2 = -0.900 - 0.075 = -0.975; f([-0.975, 0.400]) = 30.7 > 17.2$",
            "text/plain": [
              "<IPython.core.display.Markdown object>"
            ]
          },
          "metadata": {
            "tags": []
          }
        },
        {
          "output_type": "display_data",
          "data": {
            "text/markdown": "$ x_2^2 = 0.400 + 0.1 = 0.500; f([-0.825, 0.500]) = 3.51 < 17.2$",
            "text/plain": [
              "<IPython.core.display.Markdown object>"
            ]
          },
          "metadata": {
            "tags": []
          }
        },
        {
          "output_type": "display_data",
          "data": {
            "text/markdown": "$ x_2^2 = 0.400 - 0.1 = 0.300; f([-0.825, 0.300]) = 15.0 < 17.2$",
            "text/plain": [
              "<IPython.core.display.Markdown object>"
            ]
          },
          "metadata": {
            "tags": []
          }
        },
        {
          "output_type": "display_data",
          "data": {
            "text/markdown": "Проводиться досліджуючий пошук навколо точки $x_p^1$",
            "text/plain": [
              "<IPython.core.display.Markdown object>"
            ]
          },
          "metadata": {
            "tags": []
          }
        },
        {
          "output_type": "display_data",
          "data": {
            "text/markdown": "Отримана точка $x^2 = [-0.825, 0.500]$",
            "text/plain": [
              "<IPython.core.display.Markdown object>"
            ]
          },
          "metadata": {
            "tags": []
          }
        },
        {
          "output_type": "display_data",
          "data": {
            "text/markdown": "Оскільки $f([-0.825, 0.500]) = 3.51 < f([-0.900, 0.400]) = 17.2$ $\\Rightarrow$",
            "text/plain": [
              "<IPython.core.display.Markdown object>"
            ]
          },
          "metadata": {
            "tags": []
          }
        },
        {
          "output_type": "display_data",
          "data": {
            "text/markdown": "$x_1 = [-0.900, 0.400]$ - базисна",
            "text/plain": [
              "<IPython.core.display.Markdown object>"
            ]
          },
          "metadata": {
            "tags": []
          }
        },
        {
          "output_type": "display_data",
          "data": {
            "text/markdown": "$x_2 = [-0.825, 0.500]$ - поточна базисна",
            "text/plain": [
              "<IPython.core.display.Markdown object>"
            ]
          },
          "metadata": {
            "tags": []
          }
        },
        {
          "output_type": "display_data",
          "data": {
            "text/markdown": "З поточної базисної точки $x^2$ проводиться пошук за зразком:",
            "text/plain": [
              "<IPython.core.display.Markdown object>"
            ]
          },
          "metadata": {
            "tags": []
          }
        },
        {
          "output_type": "display_data",
          "data": {
            "text/markdown": "$x_p^2 = 2x^2 - x^1 = [-0.750, 0.600]$",
            "text/plain": [
              "<IPython.core.display.Markdown object>"
            ]
          },
          "metadata": {
            "tags": []
          }
        },
        {
          "output_type": "display_data",
          "data": {
            "text/markdown": "$f(x_p^2) = 0.302$",
            "text/plain": [
              "<IPython.core.display.Markdown object>"
            ]
          },
          "metadata": {
            "tags": []
          }
        },
        {
          "output_type": "display_data",
          "data": {
            "image/png": "[encoded data removed]",
            "text/plain": [
              "<Figure size 432x288 with 1 Axes>"
            ]
          },
          "metadata": {
            "tags": [],
            "needs_background": "light"
          }
        },
        {
          "output_type": "stream",
          "text": [
            "\n",
            "\n"
          ],
          "name": "stdout"
        },
        {
          "output_type": "display_data",
          "data": {
            "text/markdown": "Ітерація 5:",
            "text/plain": [
              "<IPython.core.display.Markdown object>"
            ]
          },
          "metadata": {
            "tags": []
          }
        },
        {
          "output_type": "display_data",
          "data": {
            "text/markdown": "$ x_1^3 = -0.750 + 0.075 = -0.675; f([-0.675, 0.600]) = 2.25 > 0.302$",
            "text/plain": [
              "<IPython.core.display.Markdown object>"
            ]
          },
          "metadata": {
            "tags": []
          }
        },
        {
          "output_type": "display_data",
          "data": {
            "text/markdown": "$ x_1^3 = -0.750 - 0.075 = -0.825; f([-0.825, 0.600]) = 0.803 > 0.302$",
            "text/plain": [
              "<IPython.core.display.Markdown object>"
            ]
          },
          "metadata": {
            "tags": []
          }
        },
        {
          "output_type": "display_data",
          "data": {
            "text/markdown": "$ x_2^3 = 0.600 + 0.1 = 0.700; f([-0.825, 0.700]) = 0.129 < 0.302$",
            "text/plain": [
              "<IPython.core.display.Markdown object>"
            ]
          },
          "metadata": {
            "tags": []
          }
        },
        {
          "output_type": "display_data",
          "data": {
            "text/markdown": "$ x_2^3 = 0.600 - 0.1 = 0.500; f([-0.825, 0.500]) = 3.50 > 0.302$",
            "text/plain": [
              "<IPython.core.display.Markdown object>"
            ]
          },
          "metadata": {
            "tags": []
          }
        },
        {
          "output_type": "display_data",
          "data": {
            "text/markdown": "Проводиться досліджуючий пошук навколо точки $x_p^2$",
            "text/plain": [
              "<IPython.core.display.Markdown object>"
            ]
          },
          "metadata": {
            "tags": []
          }
        },
        {
          "output_type": "display_data",
          "data": {
            "text/markdown": "Отримана точка $x^3 = [-0.825, 0.700]$",
            "text/plain": [
              "<IPython.core.display.Markdown object>"
            ]
          },
          "metadata": {
            "tags": []
          }
        },
        {
          "output_type": "display_data",
          "data": {
            "text/markdown": "Оскільки $f([-0.825, 0.700]) = 0.129 < f([-0.825, 0.500]) = 3.51$ $\\Rightarrow$",
            "text/plain": [
              "<IPython.core.display.Markdown object>"
            ]
          },
          "metadata": {
            "tags": []
          }
        },
        {
          "output_type": "display_data",
          "data": {
            "text/markdown": "$x_2 = [-0.825, 0.500]$ - базисна",
            "text/plain": [
              "<IPython.core.display.Markdown object>"
            ]
          },
          "metadata": {
            "tags": []
          }
        },
        {
          "output_type": "display_data",
          "data": {
            "text/markdown": "$x_3 = [-0.825, 0.700]$ - поточна базисна",
            "text/plain": [
              "<IPython.core.display.Markdown object>"
            ]
          },
          "metadata": {
            "tags": []
          }
        },
        {
          "output_type": "display_data",
          "data": {
            "text/markdown": "З поточної базисної точки $x^3$ проводиться пошук за зразком:",
            "text/plain": [
              "<IPython.core.display.Markdown object>"
            ]
          },
          "metadata": {
            "tags": []
          }
        },
        {
          "output_type": "display_data",
          "data": {
            "text/markdown": "$x_p^3 = 2x^3 - x^2 = [-0.825, 0.900]$",
            "text/plain": [
              "<IPython.core.display.Markdown object>"
            ]
          },
          "metadata": {
            "tags": []
          }
        },
        {
          "output_type": "display_data",
          "data": {
            "text/markdown": "$f(x_p^3) = 4.85$",
            "text/plain": [
              "<IPython.core.display.Markdown object>"
            ]
          },
          "metadata": {
            "tags": []
          }
        },
        {
          "output_type": "display_data",
          "data": {
            "image/png": "[encoded data removed]",
            "text/plain": [
              "<Figure size 432x288 with 1 Axes>"
            ]
          },
          "metadata": {
            "tags": [],
            "needs_background": "light"
          }
        },
        {
          "output_type": "stream",
          "text": [
            "\n",
            "\n"
          ],
          "name": "stdout"
        },
        {
          "output_type": "display_data",
          "data": {
            "text/markdown": "Ітерація 6:",
            "text/plain": [
              "<IPython.core.display.Markdown object>"
            ]
          },
          "metadata": {
            "tags": []
          }
        },
        {
          "output_type": "display_data",
          "data": {
            "text/markdown": "$ x_1^4 = -0.825 + 0.075 = -0.750; f([-0.750, 0.900]) = 11.4 > 4.85$",
            "text/plain": [
              "<IPython.core.display.Markdown object>"
            ]
          },
          "metadata": {
            "tags": []
          }
        },
        {
          "output_type": "display_data",
          "data": {
            "text/markdown": "$ x_1^4 = -0.825 - 0.075 = -0.900; f([-0.900, 0.900]) = 0.835 < 4.85$",
            "text/plain": [
              "<IPython.core.display.Markdown object>"
            ]
          },
          "metadata": {
            "tags": []
          }
        },
        {
          "output_type": "display_data",
          "data": {
            "text/markdown": "$ x_2^4 = 0.900 + 0.1 = 1.00; f([-0.900, 1.00]) = 3.65 < 4.85$",
            "text/plain": [
              "<IPython.core.display.Markdown object>"
            ]
          },
          "metadata": {
            "tags": []
          }
        },
        {
          "output_type": "display_data",
          "data": {
            "text/markdown": "$ x_2^4 = 0.900 - 0.1 = 0.800; f([-0.900, 0.800]) = 0.0483 < 4.85$",
            "text/plain": [
              "<IPython.core.display.Markdown object>"
            ]
          },
          "metadata": {
            "tags": []
          }
        },
        {
          "output_type": "display_data",
          "data": {
            "text/markdown": "Проводиться досліджуючий пошук навколо точки $x_p^3$",
            "text/plain": [
              "<IPython.core.display.Markdown object>"
            ]
          },
          "metadata": {
            "tags": []
          }
        },
        {
          "output_type": "display_data",
          "data": {
            "text/markdown": "Отримана точка $x^4 = [-0.900, 1.00]$",
            "text/plain": [
              "<IPython.core.display.Markdown object>"
            ]
          },
          "metadata": {
            "tags": []
          }
        },
        {
          "output_type": "display_data",
          "data": {
            "image/png": "[encoded data removed]",
            "text/plain": [
              "<Figure size 432x288 with 1 Axes>"
            ]
          },
          "metadata": {
            "tags": [],
            "needs_background": "light"
          }
        },
        {
          "output_type": "display_data",
          "data": {
            "text/markdown": "**Оскільки** $f([-0.900, 1.00]) = 3.65 > f([-0.825, 0.700]) = 0.129$ $\\Rightarrow$",
            "text/plain": [
              "<IPython.core.display.Markdown object>"
            ]
          },
          "metadata": {
            "tags": []
          }
        },
        {
          "output_type": "display_data",
          "data": {
            "text/markdown": "Пошук не є успішним, необхідно зменшити значення приросту:",
            "text/plain": [
              "<IPython.core.display.Markdown object>"
            ]
          },
          "metadata": {
            "tags": []
          }
        },
        {
          "output_type": "display_data",
          "data": {
            "text/markdown": "$\\Delta x_{new} = \\frac{\\Delta x_{last}}{2} =$[0.0375, 0.05]",
            "text/plain": [
              "<IPython.core.display.Markdown object>"
            ]
          },
          "metadata": {
            "tags": []
          }
        },
        {
          "output_type": "display_data",
          "data": {
            "text/markdown": "І провести досліджуючий пошук навколо останньої базисної точки $x^2 = [-0.825, 0.500]$",
            "text/plain": [
              "<IPython.core.display.Markdown object>"
            ]
          },
          "metadata": {
            "tags": []
          }
        },
        {
          "output_type": "stream",
          "text": [
            "\n",
            "\n"
          ],
          "name": "stdout"
        },
        {
          "output_type": "display_data",
          "data": {
            "text/markdown": "Ітерація 5:",
            "text/plain": [
              "<IPython.core.display.Markdown object>"
            ]
          },
          "metadata": {
            "tags": []
          }
        },
        {
          "output_type": "display_data",
          "data": {
            "text/markdown": "$ x_1^3 = -0.825 + 0.0375 = -0.787; f([-0.787, 0.500]) = 1.69 < 3.51$",
            "text/plain": [
              "<IPython.core.display.Markdown object>"
            ]
          },
          "metadata": {
            "tags": []
          }
        },
        {
          "output_type": "display_data",
          "data": {
            "text/markdown": "$ x_1^3 = -0.825 - 0.0375 = -0.862; f([-0.862, 0.500]) = 6.19 > 3.51$",
            "text/plain": [
              "<IPython.core.display.Markdown object>"
            ]
          },
          "metadata": {
            "tags": []
          }
        },
        {
          "output_type": "display_data",
          "data": {
            "text/markdown": "$ x_2^3 = 0.500 + 0.05 = 0.550; f([-0.787, 0.550]) = 0.693 < 3.51$",
            "text/plain": [
              "<IPython.core.display.Markdown object>"
            ]
          },
          "metadata": {
            "tags": []
          }
        },
        {
          "output_type": "display_data",
          "data": {
            "text/markdown": "$ x_2^3 = 0.500 - 0.05 = 0.450; f([-0.787, 0.450]) = 3.20 < 3.51$",
            "text/plain": [
              "<IPython.core.display.Markdown object>"
            ]
          },
          "metadata": {
            "tags": []
          }
        },
        {
          "output_type": "display_data",
          "data": {
            "text/markdown": "Проводиться досліджуючий пошук навколо точки $x_p^2$",
            "text/plain": [
              "<IPython.core.display.Markdown object>"
            ]
          },
          "metadata": {
            "tags": []
          }
        },
        {
          "output_type": "display_data",
          "data": {
            "text/markdown": "Отримана точка $x^3 = [-0.787, 0.550]$",
            "text/plain": [
              "<IPython.core.display.Markdown object>"
            ]
          },
          "metadata": {
            "tags": []
          }
        },
        {
          "output_type": "display_data",
          "data": {
            "text/markdown": "Оскільки $f([-0.787, 0.550]) = 0.693 < f([-0.825, 0.500]) = 3.51$ $\\Rightarrow$",
            "text/plain": [
              "<IPython.core.display.Markdown object>"
            ]
          },
          "metadata": {
            "tags": []
          }
        },
        {
          "output_type": "display_data",
          "data": {
            "text/markdown": "$x_2 = [-0.825, 0.500]$ - базисна",
            "text/plain": [
              "<IPython.core.display.Markdown object>"
            ]
          },
          "metadata": {
            "tags": []
          }
        },
        {
          "output_type": "display_data",
          "data": {
            "text/markdown": "$x_3 = [-0.787, 0.550]$ - поточна базисна",
            "text/plain": [
              "<IPython.core.display.Markdown object>"
            ]
          },
          "metadata": {
            "tags": []
          }
        },
        {
          "output_type": "display_data",
          "data": {
            "text/markdown": "З поточної базисної точки $x^3$ проводиться пошук за зразком:",
            "text/plain": [
              "<IPython.core.display.Markdown object>"
            ]
          },
          "metadata": {
            "tags": []
          }
        },
        {
          "output_type": "display_data",
          "data": {
            "text/markdown": "$x_p^3 = 2x^3 - x^2 = [-0.750, 0.600]$",
            "text/plain": [
              "<IPython.core.display.Markdown object>"
            ]
          },
          "metadata": {
            "tags": []
          }
        },
        {
          "output_type": "display_data",
          "data": {
            "text/markdown": "$f(x_p^3) = 0.301$",
            "text/plain": [
              "<IPython.core.display.Markdown object>"
            ]
          },
          "metadata": {
            "tags": []
          }
        },
        {
          "output_type": "display_data",
          "data": {
            "image/png": "[encoded data removed]",
            "text/plain": [
              "<Figure size 432x288 with 1 Axes>"
            ]
          },
          "metadata": {
            "tags": [],
            "needs_background": "light"
          }
        },
        {
          "output_type": "stream",
          "text": [
            "\n",
            "\n"
          ],
          "name": "stdout"
        },
        {
          "output_type": "display_data",
          "data": {
            "text/markdown": "Ітерація 6:",
            "text/plain": [
              "<IPython.core.display.Markdown object>"
            ]
          },
          "metadata": {
            "tags": []
          }
        },
        {
          "output_type": "display_data",
          "data": {
            "text/markdown": "$ x_1^4 = -0.750 + 0.0375 = -0.713; f([-0.713, 0.600]) = 1.01 > 0.301$",
            "text/plain": [
              "<IPython.core.display.Markdown object>"
            ]
          },
          "metadata": {
            "tags": []
          }
        },
        {
          "output_type": "display_data",
          "data": {
            "text/markdown": "$ x_1^4 = -0.750 - 0.0375 = -0.787; f([-0.787, 0.600]) = 0.200 < 0.301$",
            "text/plain": [
              "<IPython.core.display.Markdown object>"
            ]
          },
          "metadata": {
            "tags": []
          }
        },
        {
          "output_type": "display_data",
          "data": {
            "text/markdown": "$ x_2^4 = 0.600 + 0.05 = 0.650; f([-0.787, 0.650]) = 0.213 < 0.301$",
            "text/plain": [
              "<IPython.core.display.Markdown object>"
            ]
          },
          "metadata": {
            "tags": []
          }
        },
        {
          "output_type": "display_data",
          "data": {
            "text/markdown": "$ x_2^4 = 0.600 - 0.05 = 0.550; f([-0.787, 0.550]) = 0.693 > 0.301$",
            "text/plain": [
              "<IPython.core.display.Markdown object>"
            ]
          },
          "metadata": {
            "tags": []
          }
        },
        {
          "output_type": "display_data",
          "data": {
            "text/markdown": "Проводиться досліджуючий пошук навколо точки $x_p^3$",
            "text/plain": [
              "<IPython.core.display.Markdown object>"
            ]
          },
          "metadata": {
            "tags": []
          }
        },
        {
          "output_type": "display_data",
          "data": {
            "text/markdown": "Отримана точка $x^4 = [-0.787, 0.650]$",
            "text/plain": [
              "<IPython.core.display.Markdown object>"
            ]
          },
          "metadata": {
            "tags": []
          }
        },
        {
          "output_type": "display_data",
          "data": {
            "text/markdown": "Оскільки $f([-0.787, 0.650]) = 0.212 < f([-0.787, 0.550]) = 0.693$ $\\Rightarrow$",
            "text/plain": [
              "<IPython.core.display.Markdown object>"
            ]
          },
          "metadata": {
            "tags": []
          }
        },
        {
          "output_type": "display_data",
          "data": {
            "text/markdown": "$x_3 = [-0.787, 0.550]$ - базисна",
            "text/plain": [
              "<IPython.core.display.Markdown object>"
            ]
          },
          "metadata": {
            "tags": []
          }
        },
        {
          "output_type": "display_data",
          "data": {
            "text/markdown": "$x_4 = [-0.787, 0.650]$ - поточна базисна",
            "text/plain": [
              "<IPython.core.display.Markdown object>"
            ]
          },
          "metadata": {
            "tags": []
          }
        },
        {
          "output_type": "display_data",
          "data": {
            "image/png": "[encoded data removed]",
            "text/plain": [
              "<Figure size 432x288 with 1 Axes>"
            ]
          },
          "metadata": {
            "tags": [],
            "needs_background": "light"
          }
        },
        {
          "output_type": "execute_result",
          "data": {
            "text/plain": [
              "[-0.787, 0.650]"
            ]
          },
          "metadata": {
            "tags": []
          },
          "execution_count": 72
        }
      ]
    },
    {
      "cell_type": "markdown",
      "metadata": {
        "id": "NHx2WP9xqo-P"
      },
      "source": [
        "## Виведення результатів"
      ]
    },
    {
      "cell_type": "code",
      "metadata": {
        "id": "tQkqykmpvBdL",
        "colab": {
          "base_uri": "https://localhost:8080/",
          "height": 509
        },
        "outputId": "3c2b30f3-587f-4280-c3e8-f3cc7b39e37f"
      },
      "source": [
        "#@title Графік збіжності метода Хука-Дживса при мінімізації функції Розенброка в залежності від значення почачткого кроку і критерію закінчення\n",
        "display(Markdown(r'Критерій закінчення - $\\begin{cases}\\frac{\\|x^{k+1}-x^k\\|}{\\|x^k\\|} &\\leq \\epsilon \\\\|f(x^{k+1}) - f(x^k)| &\\leq \\epsilon \\\\ \\end{cases}$'))\n",
        "\n",
        "exit_condition = 2\n",
        "values = list()\n",
        "for i in range(11):\n",
        "    for j in range(11):\n",
        "        temp = [i/10,j/10]\n",
        "        func_result = solve_hooke_jeeves_silent(function, x_0, temp, epsilon, exit_condition)\n",
        "        temp.append(func_result)\n",
        "        values.append(temp)\n",
        "\n",
        "x = [x[0] for x in values]\n",
        "y = [x[1] for x in values]\n",
        "z = [x[2] for x in values]\n",
        "\n",
        "fig = plt.figure(figsize=(24, 7))\n",
        "\n",
        "color = [q for q in range(len(z))]\n",
        "color.reverse()\n",
        "\n",
        "plt.subplot(1, 2, 1)\n",
        "plt.scatter(x , y, c = color, cmap ='magma')\n",
        "plt.title('Початковий крок')\n",
        "\n",
        "plt.subplot(1, 2, 2)\n",
        "zx = [q[0] for q in z]\n",
        "zy = [q[1] for q in z]\n",
        "plt.scatter(zx , zy, c = color, cmap ='magma')\n",
        "plt.title('Кінцевий результат')\n",
        "plt.show()"
      ],
      "execution_count": 46,
      "outputs": [
        {
          "output_type": "display_data",
          "data": {
            "text/markdown": "Критерій закінчення - $\\begin{cases}\\frac{\\|x^{k+1}-x^k\\|}{\\|x^k\\|} &\\leq \\epsilon \\\\|f(x^{k+1}) - f(x^k)| &\\leq \\epsilon \\\\ \\end{cases}$",
            "text/plain": [
              "<IPython.core.display.Markdown object>"
            ]
          },
          "metadata": {
            "tags": []
          }
        },
        {
          "output_type": "display_data",
          "data": {
            "image/png": "[encoded data removed]",
            "text/plain": [
              "<Figure size 1728x504 with 2 Axes>"
            ]
          },
          "metadata": {
            "tags": [],
            "needs_background": "light"
          }
        }
      ]
    },
    {
      "cell_type": "code",
      "metadata": {
        "colab": {
          "base_uri": "https://localhost:8080/",
          "height": 477
        },
        "id": "k6tMtyWw7M-k",
        "outputId": "b41ebb23-2530-4022-9d67-a5647c631150"
      },
      "source": [
        "#@title Графік збіжності метода Хука-Дживса при мінімізації функції Розенброка в залежності від значення почачткого кроку і критерію закінчення\n",
        "display(Markdown(r'Критерій закінчення - $\\|\\Delta x\\| \\leq \\epsilon$'))\n",
        "\n",
        "exit_condition = 1\n",
        "values = list()\n",
        "for i in range(11):\n",
        "    for j in range(11):\n",
        "        temp = [i/10,j/10]\n",
        "        func_result = solve_hooke_jeeves_silent(function, x_0, temp, epsilon, exit_condition)\n",
        "        temp.append(func_result)\n",
        "        values.append(temp)\n",
        "\n",
        "x = [x[0] for x in values]\n",
        "y = [x[1] for x in values]\n",
        "z = [x[2] for x in values]\n",
        "\n",
        "fig = plt.figure(figsize=(24, 7))\n",
        "\n",
        "color = [q for q in range(len(z))]\n",
        "color.reverse()\n",
        "\n",
        "plt.subplot(1, 2, 1)\n",
        "plt.scatter(x , y, c = color, cmap ='magma')\n",
        "plt.title('Початковий крок')\n",
        "\n",
        "plt.subplot(1, 2, 2)\n",
        "zx = [q[0] for q in z]\n",
        "zy = [q[1] for q in z]\n",
        "plt.scatter(zx , zy, c = color, cmap ='magma')\n",
        "plt.title('Кінцевий результат')\n",
        "plt.show()"
      ],
      "execution_count": 47,
      "outputs": [
        {
          "output_type": "display_data",
          "data": {
            "text/markdown": "Критерій закінчення - $\\|\\Delta x\\| \\leq \\epsilon$",
            "text/plain": [
              "<IPython.core.display.Markdown object>"
            ]
          },
          "metadata": {
            "tags": []
          }
        },
        {
          "output_type": "display_data",
          "data": {
            "image/png": "[encoded data removed]",
            "text/plain": [
              "<Figure size 1728x504 with 2 Axes>"
            ]
          },
          "metadata": {
            "tags": [],
            "needs_background": "light"
          }
        }
      ]
    },
    {
      "cell_type": "markdown",
      "metadata": {
        "id": "Qm7Ohj8NZe6-"
      },
      "source": [
        "## Висновки"
      ]
    },
    {
      "cell_type": "markdown",
      "metadata": {
        "id": "tcPYgfw2ZjQt"
      },
      "source": [
        "В ході даної роботи було досліджено збіжність метода Хука-Дживса при мінімізації функції Розенброка.\n",
        "\n",
        "Також було досліджено поведінку функціх при різних критеріях закінчення і опираючись на вищевказані графіки, можна зробити висновок, що використовуючи критерій закінчення \n",
        "* $\\begin{cases}\\frac{\\|x^{k+1}-x^k\\|}{\\|x^k\\|} &\\leq \\epsilon \\\\|f(x^{k+1}) - f(x^k)| &\\leq \\epsilon \\\\ \\end{cases}$\n",
        "\n",
        "функція збігається до мінімуму з меншою швидкістю, ніж використовуючи критерій закінчення \n",
        "* $\\|\\Delta x\\| \\leq \\epsilon$"
      ]
    },
    {
      "cell_type": "markdown",
      "metadata": {
        "id": "blcGD08rZiZz"
      },
      "source": [
        "## Список використаних джерел\n"
      ]
    },
    {
      "cell_type": "markdown",
      "metadata": {
        "id": "7NREfGtKZj11"
      },
      "source": [
        "1. AMO — Advanced Modeling and Optimization, Volume 11, Number 1 - Department of Mathematics and Statistics, University of Canterbury, 2009 (https://camo.ici.ro/journal/vol11/v11a4.pdf)\n",
        "\n",
        "2. Numerical Optimization: Penn State Math 555 Lecture Notes - Christopher Griffin, 2012 (http://www.personal.psu.edu/cxg286/Math555.pdf)\n",
        "\n",
        "3. Банди Б.,Методы оптимизации. Вводный курс. М., 1988 (https://elprivod.nmu.org.ua/files/optimization/Банди_методы%20оптимизации.pdf)\n",
        "\n",
        "4. Методы оптимизации систем автоматизированого проектирования (http://www.optimizaciya-sapr.narod.ru)\n",
        "\n",
        "5. Ладогубец Т.С., Методи оптимізації. Практика 2., 2021 (https://drive.google.com/file/d/1OJ0E8cCos0hXFTsM1Cvp08Hyy5KaNQq8/view?usp=sharing)\n",
        "\n",
        "5. Ладогубец Т.С., Методи оптимізації. Лекція 4., 2021 (https://drive.google.com/file/d/1CTQGX88IPj6HRko77aHITAJ0sWO5Mtqy/view?usp=sharing)\n"
      ]
    }
  ]
}